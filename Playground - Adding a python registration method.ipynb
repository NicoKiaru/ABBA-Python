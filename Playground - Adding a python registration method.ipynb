{
 "cells": [
  {
   "cell_type": "code",
   "execution_count": 1,
   "id": "3d3bf6b0",
   "metadata": {},
   "outputs": [],
   "source": [
    "import itk\n",
    "import imagej\n",
    "import time\n",
    "import numpy as np\n",
    "\n",
    "# core dependencies\n",
    "import os\n",
    "from pathlib import Path\n",
    "\n",
    "from abba import Abba"
   ]
  },
  {
   "cell_type": "code",
   "execution_count": 2,
   "id": "192f65c8",
   "metadata": {},
   "outputs": [
    {
     "name": "stderr",
     "output_type": "stream",
     "text": [
      "[java.lang.Enum.toString] 22:18:04.411 [SciJava-4df39a88-Thread-0] DEBUG sc.fiji.bdvpg.scijava.services.SourceAndConverterService - Plugin found for entity class Displaysettings\n",
      "[java.lang.Enum.toString] 22:18:04.653 [SciJava-4df39a88-Thread-0] INFO sc.fiji.bdvpg.scijava.services.SourceAndConverterService - Spimdata mpicbg.spim.data.SpimData@6f19883b is using the Bdv Playground global cache.\n",
      "[java.lang.Enum.toString] [WARNING] Ignoring unsupported output: ba [ch.epfl.biop.atlas.mouse.allen.ccfv3.command.AllenBrainAdultMouseAtlasCCF2017Command]\n",
      "[java.lang.Enum.toString] [WARNING] Ignoring unsupported output: mp [ch.epfl.biop.atlas.aligner.MultiSlicePositioner]\n"
     ]
    }
   ],
   "source": [
    "# -- NOT HEADLESS\n",
    "abba = Abba('Adult Mouse Brain - Allen Brain Atlas V3')\n",
    "ij = abba.ij"
   ]
  },
  {
   "cell_type": "code",
   "execution_count": 3,
   "id": "c02d0bf1",
   "metadata": {},
   "outputs": [
    {
     "name": "stdout",
     "output_type": "stream",
     "text": [
      "init SimpleRotateAffineRegistrationSupplier\n",
      "init SimpleRotateAffineRegistrationSupplier\n"
     ]
    }
   ],
   "source": [
    "from abba.itk.abba_itk import add_abba_itk_registrations\n",
    "\n",
    "add_abba_itk_registrations(ij)"
   ]
  },
  {
   "cell_type": "code",
   "execution_count": 4,
   "id": "ea14c2fc",
   "metadata": {},
   "outputs": [
    {
     "name": "stdout",
     "output_type": "stream",
     "text": [
      "init SimpleRotateAffineRegistration\n",
      "init SimpleRotateAffineRegistration\n"
     ]
    },
    {
     "name": "stderr",
     "output_type": "stream",
     "text": [
      "The compare_version function is deprecated. Use is_version_at_least instead.\n",
      "The compare_version function is deprecated. Use is_version_at_least instead.\n"
     ]
    },
    {
     "name": "stdout",
     "output_type": "stream",
     "text": [
      "0\n",
      "1\n",
      "output_path = C:\\Users\\nicol\\AppData\\Local\\Temp\\tmp3oxz8222\\TransformParameters.0.txt\n",
      "2\n",
      "2A\n",
      "True\n",
      "3\n",
      "4\n"
     ]
    },
    {
     "name": "stderr",
     "output_type": "stream",
     "text": [
      "The compare_version function is deprecated. Use is_version_at_least instead.\n"
     ]
    },
    {
     "name": "stdout",
     "output_type": "stream",
     "text": [
      "init SimpleRotateAffineRegistration\n",
      "init SimpleRotateAffineRegistration\n"
     ]
    },
    {
     "name": "stderr",
     "output_type": "stream",
     "text": [
      "The compare_version function is deprecated. Use is_version_at_least instead.\n"
     ]
    },
    {
     "name": "stdout",
     "output_type": "stream",
     "text": [
      "0\n",
      "1\n",
      "output_path = C:\\Users\\nicol\\AppData\\Local\\Temp\\tmpsr08h43o\\TransformParameters.0.txt\n",
      "2\n",
      "2A\n",
      "True\n",
      "3\n",
      "4\n"
     ]
    },
    {
     "name": "stderr",
     "output_type": "stream",
     "text": [
      "The compare_version function is deprecated. Use is_version_at_least instead.\n",
      "The compare_version function is deprecated. Use is_version_at_least instead.\n"
     ]
    },
    {
     "name": "stdout",
     "output_type": "stream",
     "text": [
      "init SimpleRotateAffineRegistration\n",
      "init SimpleRotateAffineRegistration\n",
      "0\n",
      "1\n",
      "output_path = C:\\Users\\nicol\\AppData\\Local\\Temp\\tmpv3mjfqfh\\TransformParameters.0.txt\n",
      "2\n",
      "2A\n",
      "True\n",
      "3\n",
      "4\n"
     ]
    },
    {
     "name": "stderr",
     "output_type": "stream",
     "text": [
      "The compare_version function is deprecated. Use is_version_at_least instead.\n",
      "The compare_version function is deprecated. Use is_version_at_least instead.\n"
     ]
    },
    {
     "name": "stdout",
     "output_type": "stream",
     "text": [
      "init SimpleRotateAffineRegistration\n",
      "init SimpleRotateAffineRegistration\n",
      "0\n",
      "1\n",
      "output_path = C:\\Users\\nicol\\AppData\\Local\\Temp\\tmpq5nl2xmk\\TransformParameters.0.txt\n",
      "2\n",
      "2A\n",
      "True\n",
      "3\n",
      "4\n"
     ]
    },
    {
     "name": "stderr",
     "output_type": "stream",
     "text": [
      "The compare_version function is deprecated. Use is_version_at_least instead.\n",
      "The compare_version function is deprecated. Use is_version_at_least instead.\n"
     ]
    },
    {
     "name": "stdout",
     "output_type": "stream",
     "text": [
      "init SimpleRotateAffineRegistration\n",
      "init SimpleRotateAffineRegistration\n",
      "0\n",
      "1\n",
      "output_path = C:\\Users\\nicol\\AppData\\Local\\Temp\\tmpn3dbccpn\\TransformParameters.0.txt\n",
      "2\n",
      "2A\n",
      "True\n",
      "3\n",
      "4\n"
     ]
    },
    {
     "name": "stderr",
     "output_type": "stream",
     "text": [
      "The compare_version function is deprecated. Use is_version_at_least instead.\n",
      "The compare_version function is deprecated. Use is_version_at_least instead.\n"
     ]
    },
    {
     "name": "stdout",
     "output_type": "stream",
     "text": [
      "init SimpleRotateAffineRegistration\n",
      "init SimpleRotateAffineRegistration\n",
      "0\n",
      "1\n",
      "output_path = C:\\Users\\nicol\\AppData\\Local\\Temp\\tmpwj5bgxw3\\TransformParameters.0.txt\n",
      "2\n",
      "2A\n",
      "True\n",
      "3\n",
      "4\n"
     ]
    }
   ],
   "source": [
    "abba.show_bdv_ui()  # creates and show a bdv view"
   ]
  },
  {
   "cell_type": "code",
   "execution_count": null,
   "id": "394c4a75",
   "metadata": {},
   "outputs": [],
   "source": [
    "ij.py.show(result_image)"
   ]
  },
  {
   "cell_type": "code",
   "execution_count": null,
   "id": "e58b6f77",
   "metadata": {},
   "outputs": [],
   "source": [
    "print(result_transform_parameters)"
   ]
  },
  {
   "cell_type": "code",
   "execution_count": null,
   "id": "4d2adc70",
   "metadata": {},
   "outputs": [],
   "source": [
    "print(result_transform_parameters.GetParameter(0, \"CompressResultImage\")[0])"
   ]
  },
  {
   "cell_type": "code",
   "execution_count": null,
   "id": "f5ce6d3b",
   "metadata": {},
   "outputs": [],
   "source": [
    "print(result_transform_parameters.GetParameter(0, \"ResampleInterpolator\"))"
   ]
  },
  {
   "cell_type": "code",
   "execution_count": null,
   "id": "7e6ad3d4",
   "metadata": {},
   "outputs": [],
   "source": [
    "len(result_transform_parameters.GetParameter(0, \"ResampleInterpolator\"))"
   ]
  },
  {
   "cell_type": "code",
   "execution_count": null,
   "id": "aeb46b5d",
   "metadata": {},
   "outputs": [],
   "source": [
    "from tempfile import TemporaryDirectory\n",
    "\n",
    "with TemporaryDirectory() as temp_dir:\n",
    "    # ... do something with temp_dir\n",
    "# automatically cleaned up when context exited\n"
   ]
  }
 ],
 "metadata": {
  "kernelspec": {
   "display_name": "Python 3 (ipykernel)",
   "language": "python",
   "name": "python3"
  },
  "language_info": {
   "codemirror_mode": {
    "name": "ipython",
    "version": 3
   },
   "file_extension": ".py",
   "mimetype": "text/x-python",
   "name": "python",
   "nbconvert_exporter": "python",
   "pygments_lexer": "ipython3",
   "version": "3.7.12"
  }
 },
 "nbformat": 4,
 "nbformat_minor": 5
}
