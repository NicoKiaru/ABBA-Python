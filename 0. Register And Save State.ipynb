{
 "cells": [
  {
   "cell_type": "markdown",
   "id": "007bdd6f",
   "metadata": {},
   "source": [
    "# [Aligning Big Brains and Atlases](https://biop.github.io/ijp-imagetoatlas/) in Python\n",
    "\n",
    "This series of notebook demoes the use of ABBA with python.\n",
    "\n",
    "If you managed to create an environment with PyImageJ and DeepSlice, you will be able, by running this notebook, to perform a fully automated registration of demo mouse brain sections to the Adult Mouse Allen Brain atlas.\n",
    "\n",
    "For this notebook to run, an atlas will need to be downloaded, as well as some sample dataset.\n",
    "\n",
    "The dataset is downloaded from https://zenodo.org/record/6592478\n",
    "\n",
    "Multichannel registration works reasonably well in this notebook because the first channel of the atlas (NISSL, indexed 0), is ressembling the DAPI channel of the slices (indexed 0), and the second channel of the atlas (ARA, indexed 1), is ressembling the autofluorescence channel of the slices (indexed 1).\n",
    "\n",
    "NOTE : You need to set the elastix and transformix path for the elastix registration steps."
   ]
  },
  {
   "cell_type": "code",
   "execution_count": 1,
   "id": "5c4e9d2f",
   "metadata": {},
   "outputs": [],
   "source": [
    "# core dependencies\n",
    "import os\n",
    "import time\n",
    "from pathlib import Path\n",
    "\n",
    "from abba import Abba"
   ]
  },
  {
   "cell_type": "code",
   "execution_count": 2,
   "id": "86a102df",
   "metadata": {},
   "outputs": [],
   "source": [
    "# Demo dataset for automated slices registration\n",
    "zenodo_demo_slices_url = 'https://zenodo.org/record/6592478/files/'\n",
    "\n",
    "\n",
    "# Only one section every five section is used for this demo\n",
    "demo_sections = [\n",
    "    'S00.tif',\n",
    "    'S05.tif',\n",
    "    'S10.tif',\n",
    "    'S15.tif',\n",
    "    'S20.tif',\n",
    "    'S25.tif',\n",
    "    'S30.tif',\n",
    "    'S35.tif',\n",
    "    'S40.tif',\n",
    "    'S45.tif',\n",
    "    'S50.tif',\n",
    "    'S55.tif',\n",
    "    'S60.tif',\n",
    "    'S65.tif',\n",
    "    'S70.tif',\n",
    "    'S75.tif',\n",
    "    'S80.tif']\n",
    "\n",
    "\n",
    "def download_if_necessary(base_path, section_name):\n",
    "    output_path = Path(base_path + section_name)\n",
    "    if not output_path.exists():\n",
    "        utils.check_internet_connection()\n",
    "        url = zenodo_demo_slices_url + section_name + '?download=1'\n",
    "        utils.retrieve_over_http(url, output_path)\n",
    "\n",
    "\n",
    "def download_test_images(base_path):\n",
    "    [download_if_necessary(base_path, section) for section in demo_sections]\n",
    "\n"
   ]
  },
  {
   "cell_type": "markdown",
   "id": "9dbd7118",
   "metadata": {},
   "source": [
    "## 1. Download test sections if necessary\n",
    "\n",
    "    "
   ]
  },
  {
   "cell_type": "code",
   "execution_count": 3,
   "id": "f68706c1",
   "metadata": {},
   "outputs": [],
   "source": [
    "basePath = os.getcwd() + '/images/'\n",
    "\n",
    "if not os.path.exists(basePath):\n",
    "    os.makedirs(basePath)\n",
    "    \n",
    "download_test_images(basePath)"
   ]
  },
  {
   "cell_type": "markdown",
   "id": "54979364",
   "metadata": {},
   "source": [
    "## 2. ABBA initialization"
   ]
  },
  {
   "cell_type": "code",
   "execution_count": 4,
   "id": "98c03c88",
   "metadata": {
    "scrolled": true
   },
   "outputs": [
    {
     "name": "stderr",
     "output_type": "stream",
     "text": [
      "DEBUG:imagej:List of Maven coordinates given: ['net.imagej:imagej:2.9.0', 'net.imagej:imagej-legacy:0.39.2', 'ch.epfl.biop:ImageToAtlasRegister:0.3.7']\n",
      "DEBUG:scyjava:Adding jars from endpoints ['net.imagej:imagej:2.9.0+net.imagej:imagej-legacy:0.39.2+ch.epfl.biop:ImageToAtlasRegister:0.3.7', 'io.scif:scifio-labeling:0.3.1', 'net.imglib2:imglib2-imglyb:1.0.1']\n",
      "DEBUG:scyjava:Using endpoints ['net.imagej:imagej:2.9.0+net.imagej:imagej-legacy:0.39.2+ch.epfl.biop:ImageToAtlasRegister:0.3.7', 'io.scif:scifio-labeling:0.3.1', 'net.imglib2:imglib2-imglyb:1.0.1']\n",
      "DEBUG:scyjava.config:Getting verbose level: 0\n",
      "DEBUG:jgo:Returning expanded coordinate net.imagej:imagej:2.9.0.\n",
      "DEBUG:jgo:Returning expanded coordinate ch.epfl.biop:ImageToAtlasRegister:0.3.7.\n",
      "DEBUG:jgo:Returning expanded coordinate io.scif:scifio-labeling:0.3.1.\n",
      "DEBUG:jgo:Returning expanded coordinate net.imagej:imagej-legacy:0.39.2.\n",
      "DEBUG:jgo:Returning expanded coordinate net.imglib2:imglib2-imglyb:1.0.1.\n",
      "DEBUG:scyjava:Starting JVM\n",
      "DEBUG:scyjava:Importing Java classes...\n",
      "DEBUG:scyjava:The JVM is already running.\n",
      "DEBUG:scyjava:The JVM is already running.\n",
      "DEBUG:scyjava:The JVM is already running.\n",
      "DEBUG:scyjava:The JVM is already running.\n",
      "DEBUG:scyjava:The JVM is already running.\n",
      "DEBUG:scyjava:The JVM is already running.\n",
      "DEBUG:scyjava:The JVM is already running.\n",
      "DEBUG:scyjava:The JVM is already running.\n",
      "DEBUG:scyjava:The JVM is already running.\n",
      "DEBUG:scyjava:The JVM is already running.\n",
      "DEBUG:scyjava:The JVM is already running.\n",
      "DEBUG:scyjava:The JVM is already running.\n",
      "DEBUG:scyjava:The JVM is already running.\n",
      "DEBUG:scyjava:The JVM is already running.\n",
      "DEBUG:scyjava:The JVM is already running.\n",
      "DEBUG:scyjava:The JVM is already running.\n",
      "DEBUG:scyjava:The JVM is already running.\n",
      "DEBUG:scyjava:The JVM is already running.\n",
      "DEBUG:scyjava:The JVM is already running.\n",
      "DEBUG:scyjava:The JVM is already running.\n",
      "DEBUG:scyjava:The JVM is already running.\n",
      "DEBUG:scyjava:The JVM is already running.\n",
      "DEBUG:scyjava:The JVM is already running.\n",
      "DEBUG:scyjava:The JVM is already running.\n",
      "DEBUG:scyjava:The JVM is already running.\n",
      "DEBUG:scyjava:The JVM is already running.\n",
      "DEBUG:scyjava:The JVM is already running.\n",
      "DEBUG:scyjava:The JVM is already running.\n",
      "DEBUG:scyjava:The JVM is already running.\n",
      "DEBUG:scyjava:The JVM is already running.\n",
      "DEBUG:scyjava:The JVM is already running.\n",
      "DEBUG:scyjava:The JVM is already running.\n",
      "DEBUG:scyjava:The JVM is already running.\n",
      "DEBUG:scyjava:The JVM is already running.\n",
      "DEBUG:scyjava:The JVM is already running.\n",
      "DEBUG:scyjava:The JVM is already running.\n",
      "DEBUG:scyjava:The JVM is already running.\n",
      "DEBUG:scyjava:The JVM is already running.\n",
      "DEBUG:scyjava:The JVM is already running.\n",
      "DEBUG:scyjava:The JVM is already running.\n",
      "DEBUG:scyjava:The JVM is already running.\n",
      "DEBUG:scyjava:The JVM is already running.\n",
      "DEBUG:scyjava:The JVM is already running.\n",
      "DEBUG:scyjava:The JVM is already running.\n",
      "DEBUG:scyjava:The JVM is already running.\n",
      "DEBUG:scyjava:The JVM is already running.\n",
      "DEBUG:scyjava:The JVM is already running.\n",
      "DEBUG:scyjava:The JVM is already running.\n",
      "DEBUG:scyjava:The JVM is already running.\n",
      "DEBUG:scyjava:The JVM is already running.\n",
      "DEBUG:scyjava:The JVM is already running.\n",
      "DEBUG:scyjava:The JVM is already running.\n",
      "DEBUG:scyjava:The JVM is already running.\n",
      "DEBUG:scyjava:The JVM is already running.\n",
      "DEBUG:scyjava:The JVM is already running.\n",
      "DEBUG:scyjava:The JVM is already running.\n",
      "DEBUG:scyjava:The JVM is already running.\n",
      "DEBUG:scyjava:The JVM is already running.\n",
      "DEBUG:scyjava:The JVM is already running.\n",
      "DEBUG:scyjava:The JVM is already running.\n",
      "DEBUG:scyjava:The JVM is already running.\n",
      "DEBUG:scyjava:The JVM is already running.\n",
      "DEBUG:scyjava:The JVM is already running.\n",
      "DEBUG:scyjava:The JVM is already running.\n",
      "DEBUG:scyjava:The JVM is already running.\n",
      "DEBUG:scyjava:The JVM is already running.\n",
      "DEBUG:scyjava:The JVM is already running.\n",
      "DEBUG:scyjava:The JVM is already running.\n",
      "DEBUG:scyjava:The JVM is already running.\n",
      "DEBUG:scyjava:The JVM is already running.\n",
      "DEBUG:scyjava:The JVM is already running.\n",
      "DEBUG:scyjava:The JVM is already running.\n",
      "DEBUG:scyjava:The JVM is already running.\n",
      "DEBUG:scyjava:The JVM is already running.\n",
      "DEBUG:scyjava:The JVM is already running.\n",
      "DEBUG:scyjava:The JVM is already running.\n",
      "DEBUG:scyjava:The JVM is already running.\n",
      "DEBUG:scyjava:The JVM is already running.\n",
      "DEBUG:scyjava:The JVM is already running.\n",
      "DEBUG:scyjava:The JVM is already running.\n",
      "DEBUG:scyjava:The JVM is already running.\n",
      "DEBUG:scyjava:The JVM is already running.\n",
      "DEBUG:scyjava:The JVM is already running.\n",
      "DEBUG:scyjava:The JVM is already running.\n",
      "DEBUG:scyjava:The JVM is already running.\n",
      "DEBUG:scyjava:The JVM is already running.\n",
      "DEBUG:scyjava:The JVM is already running.\n",
      "DEBUG:scyjava:The JVM is already running.\n",
      "DEBUG:scyjava:The JVM is already running.\n",
      "DEBUG:scyjava:The JVM is already running.\n"
     ]
    },
    {
     "name": "stdout",
     "output_type": "stream",
     "text": [
      "Scijava jupyter ui enabled\n"
     ]
    },
    {
     "name": "stderr",
     "output_type": "stream",
     "text": [
      "DEBUG:scyjava:The JVM is already running.\n",
      "DEBUG:ScijavaJupyterUI:Jupyter pre-processing, module ch.epfl.biop.atlas.mouse.allen.ccfv3.command.AllenBrainAdultMouseAtlasCCF2017Command\n",
      "DEBUG:ScijavaJupyterUI:Unresolved input: mapUrl\n",
      "DEBUG:ScijavaJupyterUI:Widget acquired for input mapUrl\n",
      "DEBUG:ScijavaJupyterUI:Unresolved input: ontologyUrl\n",
      "DEBUG:ScijavaJupyterUI:Widget acquired for input ontologyUrl\n",
      "DEBUG:ScijavaJupyterUI:Display widgets module ch.epfl.biop.atlas.mouse.allen.ccfv3.command.AllenBrainAdultMouseAtlasCCF2017Command\n"
     ]
    },
    {
     "data": {
      "application/vnd.jupyter.widget-view+json": {
       "model_id": "70b824cb846746b384e8010db96f1960",
       "version_major": 2,
       "version_minor": 0
      },
      "text/plain": [
       "VBox(children=(Text(value='file:/C:/abba_atlases/mouse_brain_ccfv3.xml', description='URL path to brain map da…"
      ]
     },
     "metadata": {},
     "output_type": "display_data"
    },
    {
     "name": "stderr",
     "output_type": "stream",
     "text": [
      "DEBUG:ScijavaJupyterUI:Waiting for click\n",
      "DEBUG:ScijavaJupyterUI:sleeping\n"
     ]
    },
    {
     "ename": "java.util.concurrent.ExecutionException",
     "evalue": "java.util.concurrent.ExecutionException: java.lang.RuntimeException: Module threw exception",
     "output_type": "error",
     "traceback": [
      "\u001b[1;31m---------------------------------------------------------------------------\u001b[0m",
      "\u001b[1;31morg.jpype.PyExceptionProxy\u001b[0m                Traceback (most recent call last)",
      "\u001b[1;32m~\\.conda\\envs\\abba-brainglobe-deepslice-itk\\lib\\site-packages\\_jpype.cp37-win_amd64.pyd\u001b[0m in \u001b[0;36mjava.lang.Thread.run\u001b[1;34m()\u001b[0m\n",
      "\u001b[1;32m~\\.conda\\envs\\abba-brainglobe-deepslice-itk\\lib\\site-packages\\_jpype.cp37-win_amd64.pyd\u001b[0m in \u001b[0;36mjava.util.concurrent.ThreadPoolExecutor$Worker.run\u001b[1;34m()\u001b[0m\n",
      "\u001b[1;32m~\\.conda\\envs\\abba-brainglobe-deepslice-itk\\lib\\site-packages\\_jpype.cp37-win_amd64.pyd\u001b[0m in \u001b[0;36mjava.util.concurrent.ThreadPoolExecutor.runWorker\u001b[1;34m()\u001b[0m\n",
      "\u001b[1;32m~\\.conda\\envs\\abba-brainglobe-deepslice-itk\\lib\\site-packages\\_jpype.cp37-win_amd64.pyd\u001b[0m in \u001b[0;36mjava.util.concurrent.FutureTask.run\u001b[1;34m()\u001b[0m\n",
      "\u001b[1;32m~\\.conda\\envs\\abba-brainglobe-deepslice-itk\\lib\\site-packages\\_jpype.cp37-win_amd64.pyd\u001b[0m in \u001b[0;36morg.scijava.thread.DefaultThreadService.lambda$wrap$2\u001b[1;34m()\u001b[0m\n",
      "\u001b[1;32m~\\.conda\\envs\\abba-brainglobe-deepslice-itk\\lib\\site-packages\\_jpype.cp37-win_amd64.pyd\u001b[0m in \u001b[0;36morg.scijava.module.ModuleRunner.call\u001b[1;34m()\u001b[0m\n",
      "\u001b[1;32m~\\.conda\\envs\\abba-brainglobe-deepslice-itk\\lib\\site-packages\\_jpype.cp37-win_amd64.pyd\u001b[0m in \u001b[0;36morg.scijava.module.ModuleRunner.call\u001b[1;34m()\u001b[0m\n",
      "\u001b[1;32m~\\.conda\\envs\\abba-brainglobe-deepslice-itk\\lib\\site-packages\\_jpype.cp37-win_amd64.pyd\u001b[0m in \u001b[0;36morg.scijava.module.ModuleRunner.run\u001b[1;34m()\u001b[0m\n",
      "\u001b[1;32m~\\.conda\\envs\\abba-brainglobe-deepslice-itk\\lib\\site-packages\\_jpype.cp37-win_amd64.pyd\u001b[0m in \u001b[0;36morg.scijava.module.ModuleRunner.preProcess\u001b[1;34m()\u001b[0m\n",
      "\u001b[1;32m~\\.conda\\envs\\abba-brainglobe-deepslice-itk\\lib\\site-packages\\_jpype.cp37-win_amd64.pyd\u001b[0m in \u001b[0;36morg.scijava.processor.PyPreprocessor.process\u001b[1;34m()\u001b[0m\n",
      "\u001b[1;32m~\\.conda\\envs\\abba-brainglobe-deepslice-itk\\lib\\site-packages\\_jpype.cp37-win_amd64.pyd\u001b[0m in \u001b[0;36mcom.sun.proxy.$Proxy12.accept\u001b[1;34m()\u001b[0m\n",
      "\u001b[1;32m~\\.conda\\envs\\abba-brainglobe-deepslice-itk\\lib\\site-packages\\_jpype.cp37-win_amd64.pyd\u001b[0m in \u001b[0;36morg.jpype.proxy.JPypeProxy.invoke\u001b[1;34m()\u001b[0m\n",
      "\u001b[1;32m~\\.conda\\envs\\abba-brainglobe-deepslice-itk\\lib\\site-packages\\_jpype.cp37-win_amd64.pyd\u001b[0m in \u001b[0;36morg.jpype.proxy.JPypeProxy.hostInvoke\u001b[1;34m()\u001b[0m\n",
      "\u001b[1;32m~\\.conda\\envs\\abba-brainglobe-deepslice-itk\\lib\\site-packages\\_jpype.cp37-win_amd64.pyd\u001b[0m in \u001b[0;36morg.jpype.JPypeContext.createException\u001b[1;34m()\u001b[0m\n",
      "\u001b[1;31morg.jpype.PyExceptionProxy\u001b[0m: org.jpype.PyExceptionProxy",
      "\nThe above exception was the direct cause of the following exception:\n",
      "\u001b[1;31mjava.lang.RuntimeException\u001b[0m                Traceback (most recent call last)",
      "\u001b[1;32m~\\.conda\\envs\\abba-brainglobe-deepslice-itk\\lib\\site-packages\\_jpype.cp37-win_amd64.pyd\u001b[0m in \u001b[0;36mjava.lang.Thread.run\u001b[1;34m()\u001b[0m\n",
      "\u001b[1;32m~\\.conda\\envs\\abba-brainglobe-deepslice-itk\\lib\\site-packages\\_jpype.cp37-win_amd64.pyd\u001b[0m in \u001b[0;36mjava.util.concurrent.ThreadPoolExecutor$Worker.run\u001b[1;34m()\u001b[0m\n",
      "\u001b[1;32m~\\.conda\\envs\\abba-brainglobe-deepslice-itk\\lib\\site-packages\\_jpype.cp37-win_amd64.pyd\u001b[0m in \u001b[0;36mjava.util.concurrent.ThreadPoolExecutor.runWorker\u001b[1;34m()\u001b[0m\n",
      "\u001b[1;32m~\\.conda\\envs\\abba-brainglobe-deepslice-itk\\lib\\site-packages\\_jpype.cp37-win_amd64.pyd\u001b[0m in \u001b[0;36mjava.util.concurrent.FutureTask.run\u001b[1;34m()\u001b[0m\n",
      "\u001b[1;32m~\\.conda\\envs\\abba-brainglobe-deepslice-itk\\lib\\site-packages\\_jpype.cp37-win_amd64.pyd\u001b[0m in \u001b[0;36morg.scijava.thread.DefaultThreadService.lambda$wrap$2\u001b[1;34m()\u001b[0m\n",
      "\u001b[1;32m~\\.conda\\envs\\abba-brainglobe-deepslice-itk\\lib\\site-packages\\_jpype.cp37-win_amd64.pyd\u001b[0m in \u001b[0;36morg.scijava.module.ModuleRunner.call\u001b[1;34m()\u001b[0m\n",
      "\u001b[1;32m~\\.conda\\envs\\abba-brainglobe-deepslice-itk\\lib\\site-packages\\_jpype.cp37-win_amd64.pyd\u001b[0m in \u001b[0;36morg.scijava.module.ModuleRunner.call\u001b[1;34m()\u001b[0m\n",
      "\u001b[1;31mjava.lang.RuntimeException\u001b[0m: java.lang.RuntimeException: Module threw exception",
      "\nThe above exception was the direct cause of the following exception:\n",
      "\u001b[1;31mException\u001b[0m                                 Traceback (most recent call last)",
      "\u001b[1;32m~\\.conda\\envs\\abba-brainglobe-deepslice-itk\\lib\\site-packages\\_jpype.cp37-win_amd64.pyd\u001b[0m in \u001b[0;36mjava.util.concurrent.FutureTask.get\u001b[1;34m()\u001b[0m\n",
      "\u001b[1;32m~\\.conda\\envs\\abba-brainglobe-deepslice-itk\\lib\\site-packages\\_jpype.cp37-win_amd64.pyd\u001b[0m in \u001b[0;36mjava.util.concurrent.FutureTask.report\u001b[1;34m()\u001b[0m\n",
      "\u001b[1;31mException\u001b[0m: Java Exception",
      "\nThe above exception was the direct cause of the following exception:\n",
      "\u001b[1;31mjava.util.concurrent.ExecutionException\u001b[0m   Traceback (most recent call last)",
      "\u001b[1;32m~\\AppData\\Local\\Temp\\ipykernel_7708\\705086790.py\u001b[0m in \u001b[0;36m<module>\u001b[1;34m\u001b[0m\n\u001b[0;32m     14\u001b[0m \u001b[1;32mif\u001b[0m \u001b[0mheadless\u001b[0m\u001b[1;33m:\u001b[0m\u001b[1;33m\u001b[0m\u001b[1;33m\u001b[0m\u001b[0m\n\u001b[0;32m     15\u001b[0m     \u001b[1;31m# -- HEADLESS\u001b[0m\u001b[1;33m\u001b[0m\u001b[1;33m\u001b[0m\u001b[1;33m\u001b[0m\u001b[0m\n\u001b[1;32m---> 16\u001b[1;33m     \u001b[0mabba\u001b[0m \u001b[1;33m=\u001b[0m \u001b[0mAbba\u001b[0m\u001b[1;33m(\u001b[0m\u001b[1;34m'Adult Mouse Brain - Allen Brain Atlas V3'\u001b[0m\u001b[1;33m,\u001b[0m \u001b[0mheadless\u001b[0m\u001b[1;33m=\u001b[0m\u001b[1;32mTrue\u001b[0m\u001b[1;33m,\u001b[0m \u001b[0menable_jupyter_ui\u001b[0m\u001b[1;33m=\u001b[0m\u001b[1;32mTrue\u001b[0m\u001b[1;33m)\u001b[0m\u001b[1;33m\u001b[0m\u001b[1;33m\u001b[0m\u001b[0m\n\u001b[0m\u001b[0;32m     17\u001b[0m \u001b[1;32melse\u001b[0m\u001b[1;33m:\u001b[0m\u001b[1;33m\u001b[0m\u001b[1;33m\u001b[0m\u001b[0m\n\u001b[0;32m     18\u001b[0m     \u001b[1;31m# -- NOT HEADLESS\u001b[0m\u001b[1;33m\u001b[0m\u001b[1;33m\u001b[0m\u001b[1;33m\u001b[0m\u001b[0m\n",
      "\u001b[1;32m~\\Dropbox\\BIOP\\ABBA-Python\\abba\\Abba.py\u001b[0m in \u001b[0;36m__init__\u001b[1;34m(self, atlas_name, ij, slicing_mode, headless, enable_jupyter_ui)\u001b[0m\n\u001b[0;32m     83\u001b[0m                 AllenBrainAdultMouseAtlasCCF2017Command = jimport(\n\u001b[0;32m     84\u001b[0m                     'ch.epfl.biop.atlas.mouse.allen.ccfv3.command.AllenBrainAdultMouseAtlasCCF2017Command')\n\u001b[1;32m---> 85\u001b[1;33m                 \u001b[0matlas\u001b[0m \u001b[1;33m=\u001b[0m \u001b[0mij\u001b[0m\u001b[1;33m.\u001b[0m\u001b[0mcommand\u001b[0m\u001b[1;33m(\u001b[0m\u001b[1;33m)\u001b[0m\u001b[1;33m.\u001b[0m\u001b[0mrun\u001b[0m\u001b[1;33m(\u001b[0m\u001b[0mAllenBrainAdultMouseAtlasCCF2017Command\u001b[0m\u001b[1;33m,\u001b[0m \u001b[1;32mTrue\u001b[0m\u001b[1;33m)\u001b[0m\u001b[1;33m.\u001b[0m\u001b[0mget\u001b[0m\u001b[1;33m(\u001b[0m\u001b[1;33m)\u001b[0m\u001b[1;33m.\u001b[0m\u001b[0mgetOutput\u001b[0m\u001b[1;33m(\u001b[0m\u001b[1;34m\"ba\"\u001b[0m\u001b[1;33m)\u001b[0m\u001b[1;33m\u001b[0m\u001b[1;33m\u001b[0m\u001b[0m\n\u001b[0m\u001b[0;32m     86\u001b[0m                 \u001b[0mAbba\u001b[0m\u001b[1;33m.\u001b[0m\u001b[0mopened_atlases\u001b[0m\u001b[1;33m[\u001b[0m\u001b[0matlas_name\u001b[0m\u001b[1;33m]\u001b[0m \u001b[1;33m=\u001b[0m \u001b[0matlas\u001b[0m\u001b[1;33m\u001b[0m\u001b[1;33m\u001b[0m\u001b[0m\n\u001b[0;32m     87\u001b[0m             \u001b[1;32melif\u001b[0m \u001b[0matlas_name\u001b[0m \u001b[1;33m==\u001b[0m \u001b[1;34m'Rat - Waxholm Sprague Dawley V4'\u001b[0m\u001b[1;33m:\u001b[0m\u001b[1;33m\u001b[0m\u001b[1;33m\u001b[0m\u001b[0m\n",
      "\u001b[1;31mjava.util.concurrent.ExecutionException\u001b[0m: java.util.concurrent.ExecutionException: java.lang.RuntimeException: Module threw exception"
     ]
    }
   ],
   "source": [
    "headless = True\n",
    "\n",
    "\n",
    "\n",
    "# -- FOR DEBUGGING\n",
    "# import imagej.doctor\n",
    "# imagej.doctor.checkup()\n",
    "# imagej.doctor.debug_to_stderr()\n",
    "\n",
    "import logging\n",
    "logging.basicConfig(level=logging.DEBUG)\n",
    "logging.getLogger(\"asyncio\").setLevel(logging.DEBUG)\n",
    "\n",
    "if headless:\n",
    "    # -- HEADLESS\n",
    "    abba = Abba('Adult Mouse Brain - Allen Brain Atlas V3', headless=True, enable_jupyter_ui=True)\n",
    "else:\n",
    "    # -- NOT HEADLESS\n",
    "    abba = Abba('Adult Mouse Brain - Allen Brain Atlas V3')\n",
    "    abba.show_bdv_ui()  # creates and show a bdv view\n"
   ]
  },
  {
   "cell_type": "markdown",
   "id": "358e4e2c",
   "metadata": {},
   "source": [
    "## 3. Import sections into ABBA"
   ]
  },
  {
   "cell_type": "code",
   "execution_count": null,
   "id": "5c444a91",
   "metadata": {},
   "outputs": [],
   "source": [
    "# import sections into ABBA\n",
    "files = [basePath + section for section in demo_sections]\n",
    "abba.import_from_files(filepaths=files)\n",
    "\n",
    "# ALL REGISTRATIONS AND COMMANDS BELOW ARE PERFORMED ON THE SELECTED SLICES!!\n",
    "# since we want to register all of them, we select all of them\n",
    "abba.select_all_slices()"
   ]
  },
  {
   "cell_type": "code",
   "execution_count": null,
   "id": "66f97d0a",
   "metadata": {},
   "outputs": [],
   "source": [
    "# we want to avoid saturation in the display. This does not matter for\n",
    "# all registration methods EXCEPT for DeepSlice, which takes in rgb images\n",
    "abba.change_display_settings(0, 0, 500)\n",
    "abba.change_display_settings(1, 0, 1200)"
   ]
  },
  {
   "cell_type": "markdown",
   "id": "3964abcb",
   "metadata": {},
   "source": [
    "## 4. DeepSlice Registration(s)"
   ]
  },
  {
   "cell_type": "code",
   "execution_count": null,
   "id": "e65db448",
   "metadata": {},
   "outputs": [],
   "source": [
    "# a first deepslice registration round : possible because it's the Allen CCF atlas, cut in coronal mode\n",
    "# what's assumed : the sections are already in the correct order\n",
    "abba.register_slices_deepslice(channels=[0, 1])\n",
    "\n",
    "# second deepslice registration: because the slices are resampled for the registration,\n",
    "# we usually get a slightly better positioning along z and cutting angle\n",
    "# also: it's fast, and the combination of two affine transforms is\n",
    "# an affine transform, so it's not like we are adding extra degrees of freedom\n",
    "abba.register_slices_deepslice(channels=[0, 1])"
   ]
  },
  {
   "cell_type": "markdown",
   "id": "83b8f828",
   "metadata": {},
   "source": [
    "## 5. Elastix affine registration"
   ]
  },
  {
   "cell_type": "code",
   "execution_count": null,
   "id": "4d364363",
   "metadata": {},
   "outputs": [],
   "source": [
    "# a round of elastix registration, affine\n",
    "# the channel 0 of the dataset (DAPI) is registered with the Nissl Channel of the atlas (0)\n",
    "# and the channel 1 of the dataset (mainly autofluo) is registered with the autofluo channel of the atlas (1)\n",
    "# these two channels have equal weights in the registration process\n",
    "abba.register_slices_elastix_affine(channels_slice_csv='0,1',\n",
    "                                    channels_atlas_csv='0,1',\n",
    "                                    pixel_size_micrometer=40)"
   ]
  },
  {
   "cell_type": "markdown",
   "id": "ee4cb12b",
   "metadata": {},
   "source": [
    "## 6. Elastix spline registration"
   ]
  },
  {
   "cell_type": "code",
   "execution_count": null,
   "id": "f08093da",
   "metadata": {},
   "outputs": [],
   "source": [
    "# optional: a round of elastix registration, spline\n",
    "# same channels as in the affine registration\n",
    "# 5 control points along x = very coarse spline (and thus maybe unnecessary)\n",
    "# abba.register_elastix_spline(\n",
    "#    nb_control_points=5,\n",
    "#    atlas_image_channels=[0, 1],\n",
    "#    slice_image_channels=[0, 1],\n",
    "#    pixel_size_micrometer=40).get()\n",
    "\n",
    "# a round of elastix registration, affine\n",
    "# same channels as in the affine registration \n",
    "# 16 control points = reasonable spline, which allows for local corrections, without deforming two much the section\n",
    "abba.register_slices_elastix_spline(channels_slice_csv='0,1',\n",
    "                                    channels_atlas_csv='0,1',\n",
    "                                    nb_control_points_x=16,\n",
    "                                    pixel_size_micrometer=20)"
   ]
  },
  {
   "cell_type": "markdown",
   "id": "57c522c1",
   "metadata": {},
   "source": [
    "## 7. Wait for end of all registrations"
   ]
  },
  {
   "cell_type": "code",
   "execution_count": null,
   "id": "9d4a3a3c",
   "metadata": {},
   "outputs": [],
   "source": [
    "# all tasks/registrations are enqueued and executed asynchronously\n",
    "# if you need to wait before saving, then wait for all tasks to be finished:\n",
    "abba.wait_for_end_of_tasks()"
   ]
  },
  {
   "cell_type": "markdown",
   "id": "b7508c96",
   "metadata": {},
   "source": [
    "## 8. Saving the result"
   ]
  },
  {
   "cell_type": "code",
   "execution_count": null,
   "id": "27e6a478",
   "metadata": {},
   "outputs": [],
   "source": [
    "save_dir = os.path.join(os.getcwd(), 'temp', 'notebook0', 'state')\n",
    "\n",
    "if not os.path.exists(save_dir):\n",
    "    os.makedirs(save_dir)\n",
    "\n",
    "\n",
    "abba.state_save(save_dir+\"/state.json\") # full absolute path needed"
   ]
  },
  {
   "cell_type": "code",
   "execution_count": null,
   "id": "c3a9bac6",
   "metadata": {},
   "outputs": [],
   "source": [
    "import asyncio\n",
    "import time\n",
    "\n",
    "import ipywidgets as w\n",
    "from IPython.display import display\n",
    "from jupyter_ui_poll import run_ui_poll_loop, ui_events, with_ui_events"
   ]
  },
  {
   "cell_type": "code",
   "execution_count": null,
   "id": "be8650f6",
   "metadata": {},
   "outputs": [],
   "source": [
    "def on_click(btn):\n",
    "    n = int(btn.description)\n",
    "    btn.description = str(n + 1)\n",
    "\n",
    "\n",
    "def test_button():\n",
    "    \"\"\"\n",
    "    Create button that displays number of times it was clicked\n",
    "    \"\"\"\n",
    "    btn = w.Button(description=\"0\")\n",
    "    btn.on_click(on_click)\n",
    "    return btn\n",
    "\n",
    "\n",
    "display(test_button())"
   ]
  },
  {
   "cell_type": "code",
   "execution_count": null,
   "id": "b6e9c00e",
   "metadata": {},
   "outputs": [],
   "source": [
    "btn = test_button()\n",
    "print(\"Press this button 10 times to terminate\")\n",
    "display(btn)\n",
    "\n",
    "with ui_events() as ui_poll:\n",
    "    while int(btn.description) < 10:\n",
    "        print(btn.description, end=\"\")\n",
    "        ui_poll(11)  # Process upto 11 ui events per iteration\n",
    "        time.sleep(0.1)\n",
    "\n",
    "print(\"... done\")"
   ]
  },
  {
   "cell_type": "code",
   "execution_count": null,
   "id": "b02b6f27",
   "metadata": {},
   "outputs": [],
   "source": []
  }
 ],
 "metadata": {
  "kernelspec": {
   "display_name": "Python 3 (ipykernel)",
   "language": "python",
   "name": "python3"
  },
  "language_info": {
   "codemirror_mode": {
    "name": "ipython",
    "version": 3
   },
   "file_extension": ".py",
   "mimetype": "text/x-python",
   "name": "python",
   "nbconvert_exporter": "python",
   "pygments_lexer": "ipython3",
   "version": "3.7.12"
  }
 },
 "nbformat": 4,
 "nbformat_minor": 5
}
