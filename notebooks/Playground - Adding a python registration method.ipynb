{
 "cells": [
  {
   "cell_type": "code",
   "execution_count": null,
   "id": "3d3bf6b0",
   "metadata": {},
   "outputs": [],
   "source": [
    "import itk\n",
    "import imagej\n",
    "import time\n",
    "import numpy as np\n",
    "\n",
    "# core dependencies\n",
    "import os\n",
    "from pathlib import Path\n",
    "\n",
    "from abba import Abba\n",
    "# NOT FUNCTIONAL!!"
   ]
  },
  {
   "cell_type": "code",
   "execution_count": null,
   "id": "192f65c8",
   "metadata": {},
   "outputs": [],
   "source": [
    "# -- NOT HEADLESS\n",
    "abba = Abba('Adult Mouse Brain - Allen Brain Atlas V3')\n",
    "ij = abba.ij"
   ]
  },
  {
   "cell_type": "code",
   "execution_count": null,
   "id": "c02d0bf1",
   "metadata": {},
   "outputs": [],
   "source": [
    "from abba.itk.abba_itk import add_abba_itk_registrations\n",
    "\n",
    "add_abba_itk_registrations(ij)"
   ]
  },
  {
   "cell_type": "code",
   "execution_count": null,
   "id": "ea14c2fc",
   "metadata": {},
   "outputs": [],
   "source": [
    "abba.show_bdv_ui()  # creates and show a bdv view"
   ]
  },
  {
   "cell_type": "code",
   "execution_count": null,
   "id": "394c4a75",
   "metadata": {},
   "outputs": [],
   "source": [
    "ij.py.show(result_image)"
   ]
  },
  {
   "cell_type": "code",
   "execution_count": null,
   "id": "e58b6f77",
   "metadata": {},
   "outputs": [],
   "source": [
    "print(result_transform_parameters)"
   ]
  },
  {
   "cell_type": "code",
   "execution_count": null,
   "id": "4d2adc70",
   "metadata": {},
   "outputs": [],
   "source": [
    "print(result_transform_parameters.GetParameter(0, \"CompressResultImage\")[0])"
   ]
  },
  {
   "cell_type": "code",
   "execution_count": null,
   "id": "f5ce6d3b",
   "metadata": {},
   "outputs": [],
   "source": [
    "print(result_transform_parameters.GetParameter(0, \"ResampleInterpolator\"))"
   ]
  },
  {
   "cell_type": "code",
   "execution_count": null,
   "id": "7e6ad3d4",
   "metadata": {},
   "outputs": [],
   "source": [
    "len(result_transform_parameters.GetParameter(0, \"ResampleInterpolator\"))"
   ]
  },
  {
   "cell_type": "code",
   "execution_count": null,
   "id": "aeb46b5d",
   "metadata": {},
   "outputs": [],
   "source": [
    "from tempfile import TemporaryDirectory\n",
    "\n",
    "with TemporaryDirectory() as temp_dir:\n",
    "    # ... do something with temp_dir\n",
    "# automatically cleaned up when context exited\n"
   ]
  }
 ],
 "metadata": {
  "kernelspec": {
   "display_name": "Python 3 (ipykernel)",
   "language": "python",
   "name": "python3"
  },
  "language_info": {
   "codemirror_mode": {
    "name": "ipython",
    "version": 3
   },
   "file_extension": ".py",
   "mimetype": "text/x-python",
   "name": "python",
   "nbconvert_exporter": "python",
   "pygments_lexer": "ipython3",
   "version": "3.7.12"
  }
 },
 "nbformat": 4,
 "nbformat_minor": 5
}
