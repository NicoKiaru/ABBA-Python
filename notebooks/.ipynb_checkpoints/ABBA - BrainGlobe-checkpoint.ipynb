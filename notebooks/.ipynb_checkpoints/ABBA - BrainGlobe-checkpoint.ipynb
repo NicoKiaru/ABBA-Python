{
 "cells": [
  {
   "cell_type": "code",
   "execution_count": 1,
   "id": "c57cfa87",
   "metadata": {},
   "outputs": [
    {
     "data": {
      "text/html": [
       "<pre style=\"white-space:pre;overflow-x:auto;line-height:normal;font-family:Menlo,'DejaVu Sans Mono',consolas,'Courier New',monospace\"><span style=\"font-style: italic\">                                                                                  </span>\n",
       "<span style=\"font-style: italic\">                                                                                  </span>\n",
       "<span style=\"font-style: italic\">                                Brainglobe Atlases                                </span>\n",
       "╭──────────────────────────────────┬────────────┬───────────────┬────────────────╮\n",
       "│<span style=\"color: #008000; text-decoration-color: #008000; font-weight: bold\"> Name                             </span>│<span style=\"color: #008000; text-decoration-color: #008000; font-weight: bold\"> Downloaded </span>│<span style=\"color: #008000; text-decoration-color: #008000; font-weight: bold\"> Local version </span>│<span style=\"color: #008000; text-decoration-color: #008000; font-weight: bold\"> Latest version </span>│\n",
       "├──────────────────────────────────┼────────────┼───────────────┼────────────────┤\n",
       "│ <span style=\"font-weight: bold\">allen_human_500um</span>                │     <span style=\"color: #008000; text-decoration-color: #008000\">✔</span>      │      0.1      │      0.1       │\n",
       "│ <span style=\"font-weight: bold\">allen_mouse_25um</span>                 │     <span style=\"color: #008000; text-decoration-color: #008000\">✔</span>      │      1.2      │      1.2       │\n",
       "│ <span style=\"font-weight: bold\">mpin_zfish_1um</span>                   │     <span style=\"color: #008000; text-decoration-color: #008000\">✔</span>      │      1.0      │      1.0       │\n",
       "│ <span style=\"font-weight: bold\">example_mouse_100um</span>              │    <span style=\"color: #800000; text-decoration-color: #800000\">---</span>     │      <span style=\"color: #800000; text-decoration-color: #800000\">---</span>      │      1.2       │\n",
       "│ <span style=\"font-weight: bold\">allen_mouse_10um</span>                 │    <span style=\"color: #800000; text-decoration-color: #800000\">---</span>     │      <span style=\"color: #800000; text-decoration-color: #800000\">---</span>      │      1.2       │\n",
       "│ <span style=\"font-weight: bold\">allen_mouse_50um</span>                 │    <span style=\"color: #800000; text-decoration-color: #800000\">---</span>     │      <span style=\"color: #800000; text-decoration-color: #800000\">---</span>      │      1.2       │\n",
       "│ <span style=\"font-weight: bold\">allen_mouse_100um</span>                │    <span style=\"color: #800000; text-decoration-color: #800000\">---</span>     │      <span style=\"color: #800000; text-decoration-color: #800000\">---</span>      │      1.2       │\n",
       "│ <span style=\"font-weight: bold\">kim_mouse_10um</span>                   │    <span style=\"color: #800000; text-decoration-color: #800000\">---</span>     │      <span style=\"color: #800000; text-decoration-color: #800000\">---</span>      │      1.0       │\n",
       "│ <span style=\"font-weight: bold\">kim_mouse_25um</span>                   │    <span style=\"color: #800000; text-decoration-color: #800000\">---</span>     │      <span style=\"color: #800000; text-decoration-color: #800000\">---</span>      │      1.0       │\n",
       "│ <span style=\"font-weight: bold\">kim_mouse_50um</span>                   │    <span style=\"color: #800000; text-decoration-color: #800000\">---</span>     │      <span style=\"color: #800000; text-decoration-color: #800000\">---</span>      │      1.0       │\n",
       "│ <span style=\"font-weight: bold\">kim_mouse_100um</span>                  │    <span style=\"color: #800000; text-decoration-color: #800000\">---</span>     │      <span style=\"color: #800000; text-decoration-color: #800000\">---</span>      │      1.0       │\n",
       "│ <span style=\"font-weight: bold\">osten_mouse_10um</span>                 │    <span style=\"color: #800000; text-decoration-color: #800000\">---</span>     │      <span style=\"color: #800000; text-decoration-color: #800000\">---</span>      │      1.1       │\n",
       "│ <span style=\"font-weight: bold\">osten_mouse_25um</span>                 │    <span style=\"color: #800000; text-decoration-color: #800000\">---</span>     │      <span style=\"color: #800000; text-decoration-color: #800000\">---</span>      │      1.1       │\n",
       "│ <span style=\"font-weight: bold\">osten_mouse_50um</span>                 │    <span style=\"color: #800000; text-decoration-color: #800000\">---</span>     │      <span style=\"color: #800000; text-decoration-color: #800000\">---</span>      │      1.1       │\n",
       "│ <span style=\"font-weight: bold\">osten_mouse_100um</span>                │    <span style=\"color: #800000; text-decoration-color: #800000\">---</span>     │      <span style=\"color: #800000; text-decoration-color: #800000\">---</span>      │      1.1       │\n",
       "│ <span style=\"font-weight: bold\">allen_cord_20um</span>                  │    <span style=\"color: #800000; text-decoration-color: #800000\">---</span>     │      <span style=\"color: #800000; text-decoration-color: #800000\">---</span>      │      1.0       │\n",
       "│ <span style=\"font-weight: bold\">azba_zfish_4um</span>                   │    <span style=\"color: #800000; text-decoration-color: #800000\">---</span>     │      <span style=\"color: #800000; text-decoration-color: #800000\">---</span>      │      1.0       │\n",
       "│ <span style=\"font-weight: bold\">whs_sd_rat_39um</span>                  │    <span style=\"color: #800000; text-decoration-color: #800000\">---</span>     │      <span style=\"color: #800000; text-decoration-color: #800000\">---</span>      │      1.0       │\n",
       "╰──────────────────────────────────┴────────────┴───────────────┴────────────────╯\n",
       "</pre>\n"
      ],
      "text/plain": [
       "\u001b[3m                                                                                  \u001b[0m\n",
       "\u001b[3m                                                                                  \u001b[0m\n",
       "\u001b[3m                                Brainglobe Atlases                                \u001b[0m\n",
       "╭──────────────────────────────────┬────────────┬───────────────┬────────────────╮\n",
       "│\u001b[1;32m \u001b[0m\u001b[1;32mName                            \u001b[0m\u001b[1;32m \u001b[0m│\u001b[1;32m \u001b[0m\u001b[1;32mDownloaded\u001b[0m\u001b[1;32m \u001b[0m│\u001b[1;32m \u001b[0m\u001b[1;32mLocal version\u001b[0m\u001b[1;32m \u001b[0m│\u001b[1;32m \u001b[0m\u001b[1;32mLatest version\u001b[0m\u001b[1;32m \u001b[0m│\n",
       "├──────────────────────────────────┼────────────┼───────────────┼────────────────┤\n",
       "│ \u001b[1mallen_human_500um\u001b[0m                │     \u001b[32m✔\u001b[0m      │      0.1      │      0.1       │\n",
       "│ \u001b[1mallen_mouse_25um\u001b[0m                 │     \u001b[32m✔\u001b[0m      │      1.2      │      1.2       │\n",
       "│ \u001b[1mmpin_zfish_1um\u001b[0m                   │     \u001b[32m✔\u001b[0m      │      1.0      │      1.0       │\n",
       "│ \u001b[1mexample_mouse_100um\u001b[0m              │    \u001b[31m---\u001b[0m     │      \u001b[31m---\u001b[0m      │      1.2       │\n",
       "│ \u001b[1mallen_mouse_10um\u001b[0m                 │    \u001b[31m---\u001b[0m     │      \u001b[31m---\u001b[0m      │      1.2       │\n",
       "│ \u001b[1mallen_mouse_50um\u001b[0m                 │    \u001b[31m---\u001b[0m     │      \u001b[31m---\u001b[0m      │      1.2       │\n",
       "│ \u001b[1mallen_mouse_100um\u001b[0m                │    \u001b[31m---\u001b[0m     │      \u001b[31m---\u001b[0m      │      1.2       │\n",
       "│ \u001b[1mkim_mouse_10um\u001b[0m                   │    \u001b[31m---\u001b[0m     │      \u001b[31m---\u001b[0m      │      1.0       │\n",
       "│ \u001b[1mkim_mouse_25um\u001b[0m                   │    \u001b[31m---\u001b[0m     │      \u001b[31m---\u001b[0m      │      1.0       │\n",
       "│ \u001b[1mkim_mouse_50um\u001b[0m                   │    \u001b[31m---\u001b[0m     │      \u001b[31m---\u001b[0m      │      1.0       │\n",
       "│ \u001b[1mkim_mouse_100um\u001b[0m                  │    \u001b[31m---\u001b[0m     │      \u001b[31m---\u001b[0m      │      1.0       │\n",
       "│ \u001b[1mosten_mouse_10um\u001b[0m                 │    \u001b[31m---\u001b[0m     │      \u001b[31m---\u001b[0m      │      1.1       │\n",
       "│ \u001b[1mosten_mouse_25um\u001b[0m                 │    \u001b[31m---\u001b[0m     │      \u001b[31m---\u001b[0m      │      1.1       │\n",
       "│ \u001b[1mosten_mouse_50um\u001b[0m                 │    \u001b[31m---\u001b[0m     │      \u001b[31m---\u001b[0m      │      1.1       │\n",
       "│ \u001b[1mosten_mouse_100um\u001b[0m                │    \u001b[31m---\u001b[0m     │      \u001b[31m---\u001b[0m      │      1.1       │\n",
       "│ \u001b[1mallen_cord_20um\u001b[0m                  │    \u001b[31m---\u001b[0m     │      \u001b[31m---\u001b[0m      │      1.0       │\n",
       "│ \u001b[1mazba_zfish_4um\u001b[0m                   │    \u001b[31m---\u001b[0m     │      \u001b[31m---\u001b[0m      │      1.0       │\n",
       "│ \u001b[1mwhs_sd_rat_39um\u001b[0m                  │    \u001b[31m---\u001b[0m     │      \u001b[31m---\u001b[0m      │      1.0       │\n",
       "╰──────────────────────────────────┴────────────┴───────────────┴────────────────╯\n"
      ]
     },
     "metadata": {},
     "output_type": "display_data"
    }
   ],
   "source": [
    "# Import BrainGlobe\n",
    "\n",
    "from bg_atlasapi import show_atlases\n",
    "import numpy as np\n",
    "show_atlases()"
   ]
  },
  {
   "cell_type": "code",
   "execution_count": 2,
   "id": "5c31f4ae",
   "metadata": {},
   "outputs": [
    {
     "name": "stdout",
     "output_type": "stream",
     "text": [
      "allen mouse atlas (res. 25um)\n",
      "From: http://www.brain-map.org (Wang et al 2020, https://doi.org/10.1016/j.cell.2020.04.007 )\n",
      "allen_mouse_25um\n"
     ]
    }
   ],
   "source": [
    "# Download the atlas of your choice taken from the list above\n",
    "\n",
    "from bg_atlasapi.bg_atlas import BrainGlobeAtlas\n",
    "#atlas = BrainGlobeAtlas(\"allen_human_500um\")\n",
    "#atlas = BrainGlobeAtlas(\"mpin_zfish_1um\")\n",
    "atlas = BrainGlobeAtlas(\"allen_mouse_25um\")\n",
    "print(atlas.atlas_name)"
   ]
  },
  {
   "cell_type": "code",
   "execution_count": 3,
   "id": "a9db49c0",
   "metadata": {},
   "outputs": [
    {
     "name": "stdout",
     "output_type": "stream",
     "text": [
      "{'name': 'allen_mouse', 'citation': 'Wang et al 2020, https://doi.org/10.1016/j.cell.2020.04.007', 'atlas_link': 'http://www.brain-map.org', 'species': 'Mus musculus', 'symmetric': True, 'resolution': [25.0, 25.0, 25.0], 'orientation': 'asr', 'version': '1.2', 'shape': [528, 320, 456], 'trasform_to_bg': [[1.0, 0.0, 0.0, 0.0], [0.0, 1.0, 0.0, 0.0], [0.0, 0.0, 1.0, 0.0], [0.0, 0.0, 0.0, 1.0]], 'additional_references': []}\n"
     ]
    }
   ],
   "source": [
    "# Atlas info\n",
    "print(atlas.metadata)"
   ]
  },
  {
   "cell_type": "code",
   "execution_count": 4,
   "id": "ff334f59",
   "metadata": {},
   "outputs": [
    {
     "data": {
      "text/plain": [
       "25.0"
      ]
     },
     "execution_count": 4,
     "metadata": {},
     "output_type": "execute_result"
    }
   ],
   "source": [
    "# Its resolution\n",
    "min(atlas.metadata['resolution'])"
   ]
  },
  {
   "cell_type": "code",
   "execution_count": 5,
   "id": "cb80a7ff",
   "metadata": {},
   "outputs": [],
   "source": [
    "# If you want to see it in 3D\n",
    "# import napari\n",
    "# viewer = napari.view_image(reference_image)"
   ]
  },
  {
   "cell_type": "code",
   "execution_count": 6,
   "id": "d0376457",
   "metadata": {},
   "outputs": [],
   "source": [
    "# Starting PyImageJ, some of these dependencies may be autodiscovered via transitive dependencies, not sure\n",
    "\n",
    "imagej_core_dep = 'net.imagej:imagej:2.3.0'\n",
    "imagej_legacy_dep = 'net.imagej:imagej-legacy:0.38.1'\n",
    "bdv_core_dep = 'sc.fiji:bigdataviewer-core:10.2.1'\n",
    "imglib2_ui_dep = 'net.imglib2:imglib2-ui:2.0.1'\n",
    "bdv_vistools_dep = 'sc.fiji:bigdataviewer-vistools:1.0.0-beta-29'\n",
    "imglib2_cache_dep = 'net.imglib2:imglib2-cache:1.0.0-beta-16'\n",
    "abba_dep = 'ch.epfl.biop:ImageToAtlasRegister:0.2.3'\n",
    "\n",
    "deps_pack = [imagej_core_dep, imagej_legacy_dep, bdv_core_dep,\\\n",
    "             imglib2_ui_dep, bdv_vistools_dep,imglib2_cache_dep, abba_dep ];"
   ]
  },
  {
   "cell_type": "code",
   "execution_count": 7,
   "id": "a40bfd19",
   "metadata": {},
   "outputs": [],
   "source": [
    "# Starts ImageJ, the UI will show up\n",
    "import imagej\n",
    "ij = imagej.init(deps_pack, headless=False)\n",
    "ij.ui().showUI()"
   ]
  },
  {
   "cell_type": "code",
   "execution_count": 8,
   "id": "45fdbb4c",
   "metadata": {},
   "outputs": [],
   "source": [
    "# Importing necessary classes from Java for the next cell, the hard one\n",
    "\n",
    "from scyjava import jimport\n",
    "\n",
    "import jpype\n",
    "import jpype.imports\n",
    "from jpype.types import *\n",
    "from jpype import JImplements, JOverride\n",
    "\n",
    "BdvFunctions = jimport('bdv.util.BdvFunctions')\n",
    "Atlas = jimport('ch.epfl.biop.atlas.struct.Atlas')\n",
    "AtlasMap = jimport('ch.epfl.biop.atlas.struct.AtlasMap')\n",
    "AtlasOntology = jimport('ch.epfl.biop.atlas.struct.AtlasOntology')\n",
    "AtlasNode = jimport('ch.epfl.biop.atlas.struct.AtlasNode')\n",
    "AtlasHelper = jimport('ch.epfl.biop.atlas.struct.AtlasHelper')\n",
    "AffineTransform3D = jimport('net.imglib2.realtransform.AffineTransform3D')\n",
    "ArrayList = jimport('java.util.ArrayList')\n",
    "BdvOptions = jimport('bdv.util.BdvOptions')"
   ]
  },
  {
   "cell_type": "code",
   "execution_count": 9,
   "id": "57de3365",
   "metadata": {},
   "outputs": [],
   "source": [
    "# The core of this compatibility layer : \n",
    "# - translates BrainGlobe API to ch.epfl.biop.atlas.struct interfaces through JPype\n",
    "\n",
    "@JImplements(AtlasMap)\n",
    "class BrainGlobeMap(object):\n",
    "    \n",
    "    def __init__(self, bg_atlas):\n",
    "        #this function is called way too many times if I put here the content \n",
    "        # of initialize... and I don't know why\n",
    "        # that's why there's this initialize function\n",
    "        self.atlas = bg_atlas\n",
    "    \n",
    "    @JOverride\n",
    "    def setDataSource(self, dataSource):\n",
    "        self.dataSource = dataSource\n",
    "\n",
    "    @JOverride\n",
    "    def initialize(self, atlasName):\n",
    "        self.atlasName = str(atlasName)\n",
    "        \n",
    "        atlas_resolution_in__mm = JDouble(min(self.atlas.metadata['resolution'])/1000.0)\n",
    "        \n",
    "        vox_x_mm = self.atlas.metadata['resolution'][0] / 1000.0\n",
    "        vox_y_mm = self.atlas.metadata['resolution'][1] / 1000.0\n",
    "        vox_z_mm = self.atlas.metadata['resolution'][2] / 1000.0\n",
    "        \n",
    "        affine_transform = AffineTransform3D()\n",
    "        affine_transform.scale(JDouble(vox_x_mm), JDouble(vox_y_mm), JDouble(vox_z_mm))\n",
    "        \n",
    "        # Convert \n",
    "        bss = BdvFunctions.show(ij.py.to_java(self.atlas.reference),JString(self.atlas.atlas_name+'_reference'), BdvOptions.options().sourceTransform(affine_transform))\n",
    "        reference_sac = bss.getSources().get(0)\n",
    "        bss.getBdvHandle().close()\n",
    "        \n",
    "        bss = BdvFunctions.show(ij.py.to_java(self.atlas.hemispheres),JString(self.atlas.atlas_name+'_hemispheres'), BdvOptions.options().sourceTransform(affine_transform))\n",
    "        left_right_sac = bss.getSources().get(0)\n",
    "        bss.getBdvHandle().close()\n",
    "        \n",
    "        bss = BdvFunctions.show(ij.py.to_java(self.atlas.annotation),JString(self.atlas.atlas_name+'_annotation'), BdvOptions.options().sourceTransform(affine_transform))\n",
    "        self.annotation_sac = bss.getSources().get(0)\n",
    "        bss.getBdvHandle().close()\n",
    "        \n",
    "        image_keys = ArrayList()\n",
    "        image_keys.add(JString('reference'))\n",
    "        image_keys.add(JString('X'))\n",
    "        image_keys.add(JString('Y'))\n",
    "        image_keys.add(JString('Z'))\n",
    "        image_keys.add(JString('Left Right'))\n",
    "        \n",
    "        structural_images = {\n",
    "            'reference':  reference_sac,\n",
    "            'X': AtlasHelper.getCoordinateSac(0,JString('X')),\n",
    "            'Y': AtlasHelper.getCoordinateSac(1,JString('Y')),\n",
    "            'Z': AtlasHelper.getCoordinateSac(2,JString('Z')),\n",
    "            'Left Right': left_right_sac\n",
    "        } #return Map<String,SourceAndConverter>\n",
    "        \n",
    "        self.atlas_resolution_in__mm = atlas_resolution_in__mm\n",
    "        self.affine_transform = affine_transform\n",
    "        self.image_keys = image_keys\n",
    "        self.structural_images = structural_images\n",
    "        self.maxReference = JDouble(np.max(atlas.reference)*2)\n",
    "\n",
    "    @JOverride\n",
    "    def getDataSource(self):\n",
    "        return self.dataSource #return URL\n",
    "        \n",
    "    @JOverride\n",
    "    def getStructuralImages(self):\n",
    "        return self.structural_images\n",
    "    \n",
    "    @JOverride\n",
    "    def getImagesKeys(self):\n",
    "        return self.image_keys\n",
    "\n",
    "    @JOverride\n",
    "    def getLabelImage(self):\n",
    "        return self.annotation_sac #SourceAndConverter\n",
    "\n",
    "    @JOverride\n",
    "    def getAtlasPrecisionInMillimeter(self):\n",
    "        return self.atlas_resolution_in__mm\n",
    "\n",
    "    @JOverride\n",
    "    def getCoronalTransform(self):\n",
    "        return AffineTransform3D()\n",
    "    \n",
    "    @JOverride\n",
    "    def getImageMax(self, key):\n",
    "         return self.maxReference #double\n",
    "    \n",
    "    @JOverride        \n",
    "    def labelRight(self):\n",
    "        return JInt(1)\n",
    "\n",
    "    @JOverride\n",
    "    def labelLeft(self):\n",
    "        return JInt(2)\n",
    "        \n",
    "@JImplements(AtlasOntology)\n",
    "class BrainGlobeOntology(object):\n",
    "    \n",
    "    def __init__(self, bg_atlas):\n",
    "        self.atlas = bg_atlas\n",
    "        \n",
    "    @JOverride\n",
    "    def getName(self):\n",
    "        return JString(self.atlas.atlas_name)\n",
    "    \n",
    "    @JOverride\n",
    "    def initialize(self):\n",
    "        self.root_node = BrainGlobeAtlasNode(self.atlas, self.atlas.structures.tree.root, None)\n",
    "        #self.labelToAtlasNodeMap = AtlasHelper.buildLabelToAtlasNodeMap(self.root_node)\n",
    "        self.idToAtlasNodeMap = AtlasHelper.buildIdToAtlasNodeMap(self.root_node)\n",
    "\n",
    "    @JOverride\n",
    "    def setDataSource(self, dataSource):\n",
    "        self.dataSource = dataSource\n",
    "\n",
    "    @JOverride\n",
    "    def getDataSource(self):\n",
    "        return self.dataSource #return URL\n",
    "\n",
    "    @JOverride\n",
    "    def getRoot(self):  \n",
    "        return self.root_node #return AtlasNode\n",
    "    \n",
    "    @JOverride\n",
    "    def getNodeFromId(self, index):\n",
    "        return self.idToAtlasNodeMap.get(index) #return AtlasNode \n",
    "    \n",
    "    @JOverride\n",
    "    def getNamingProperty(self):\n",
    "        return self.namingProperty\n",
    "    \n",
    "    @JOverride\n",
    "    def setNamingProperty(self, namingProperty):\n",
    "        self.namingProperty = namingProperty\n",
    "    \n",
    "@JImplements(AtlasNode)\n",
    "class BrainGlobeAtlasNode(object):\n",
    "\n",
    "    def __init__(self, bg_atlas, index, parent_node):\n",
    "        self.atlas = bg_atlas\n",
    "        self.id = index\n",
    "        self.parent_node = parent_node\n",
    "        children_nodes = []\n",
    "        for child in bg_atlas.structures.tree.children(index):\n",
    "            childNode = BrainGlobeAtlasNode(atlas, child.identifier, self)\n",
    "            children_nodes.append(childNode)\n",
    "        self.children_nodes = ArrayList(children_nodes)\n",
    "        self.namingKey = JString('acronym')\n",
    "    \n",
    "    @JOverride\n",
    "    def getId(self):\n",
    "        return JInt(self.id)\n",
    "    \n",
    "    @JOverride\n",
    "    def getColor(self):\n",
    "        val = JInt[4]\n",
    "        rgb = self.data().get('rgb_triplet')\n",
    "        return val\n",
    "\n",
    "    @JOverride\n",
    "    def data(self):\n",
    "        dict_ori = self.atlas.structures[self.id]\n",
    "        string_dict = {key: JString(str(value)) for key, value in dict_ori.items()} #keys_values}\n",
    "        return string_dict# self.atlas.structures[self.id] #string_dict #self.atlas.structures[self.id] # issue with map\n",
    "    \n",
    "    @JOverride\n",
    "    def parent(self):\n",
    "        return self.parent_node\n",
    "\n",
    "    @JOverride\n",
    "    def children(self):\n",
    "        return self.children_nodes\n",
    "    \n",
    "    @JOverride\n",
    "    def toString(self):\n",
    "        return self.data().get(self.namingKey)\n",
    "\n",
    "    \n",
    "@JImplements(Atlas)\n",
    "class BrainGlobeAtlas(object):\n",
    "\n",
    "    def __init__(self, bg_atlas):\n",
    "        self.atlas = bg_atlas\n",
    "        \n",
    "    @JOverride\n",
    "    def getMap(self):\n",
    "        return self.bg_atlasmap\n",
    "        \n",
    "    @JOverride\n",
    "    def getOntology(self):\n",
    "        return self.bg_ontology\n",
    "    \n",
    "    @JOverride\n",
    "    def initialize(self, mapURL, ontologyURL):\n",
    "        self.bg_ontology = BrainGlobeOntology(self.atlas)\n",
    "        self.bg_ontology.initialize()\n",
    "        self.bg_ontology.setNamingProperty(JString('acronym'))\n",
    "        self.bg_atlasmap = BrainGlobeMap(self.atlas)\n",
    "        self.bg_atlasmap.initialize(self.atlas.atlas_name)\n",
    "        self.dois = ArrayList()\n",
    "        self.dois.add(JString('doi1')) #TODO\n",
    "        self.dois.add(JString('doi2'))\n",
    "    \n",
    "    @JOverride\n",
    "    def getDOIs(self):\n",
    "        return self.dois\n",
    "\n",
    "    @JOverride\n",
    "    def getURL(self):\n",
    "        return JString('BrainGlobe Atlas URL...')  \n",
    "    \n",
    "    @JOverride\n",
    "    def getName(self):\n",
    "        return JString(self.atlas.atlas_name)\n",
    "    \n",
    "    @JOverride\n",
    "    def toString(self):\n",
    "        return self.getName()"
   ]
  },
  {
   "cell_type": "code",
   "execution_count": 10,
   "id": "d20f0cda",
   "metadata": {},
   "outputs": [],
   "source": [
    "# Makes the atlas object\n",
    "convertedAtlas = BrainGlobeAtlas(atlas)\n",
    "convertedAtlas.initialize(None, None)"
   ]
  },
  {
   "cell_type": "code",
   "execution_count": 11,
   "id": "095edae4",
   "metadata": {},
   "outputs": [
    {
     "data": {
      "text/plain": [
       "{'acronym': 'root',\n",
       " 'id': '997',\n",
       " 'name': 'root',\n",
       " 'structure_id_path': '[997]',\n",
       " 'rgb_triplet': '[255, 255, 255]',\n",
       " 'mesh_filename': 'C:\\Users\\nicol\\.brainglobe\\allen_mouse_25um_v1.2\\meshes\\997.obj',\n",
       " 'mesh': '<meshio mesh object>\n",
       "   Number of points: 49324\n",
       "   Number of cells:\n",
       "     triangle: 98638\n",
       "   Point data: obj:vn\n",
       "   Cell data: obj:group_ids'}"
      ]
     },
     "execution_count": 11,
     "metadata": {},
     "output_type": "execute_result"
    }
   ],
   "source": [
    "convertedAtlas.getOntology().getRoot().data()\n",
    "#cnvertedAtlas.getOntology().getNodeFromId(JInt(1)).data().get('id')"
   ]
  },
  {
   "cell_type": "code",
   "execution_count": 12,
   "id": "cc9e330b",
   "metadata": {},
   "outputs": [],
   "source": [
    "\n",
    "AtlasHelper = jimport('ch.epfl.biop.atlas.struct.AtlasHelper')\n",
    "\n",
    "#new AtlasHelper.SerializableOntology(ontology)"
   ]
  },
  {
   "cell_type": "code",
   "execution_count": 15,
   "id": "b0d5ff7b",
   "metadata": {},
   "outputs": [],
   "source": [
    "serializable_ontology = AtlasHelper.SerializableOntology(convertedAtlas.getOntology())"
   ]
  },
  {
   "cell_type": "code",
   "execution_count": 16,
   "id": "7cdd2c60",
   "metadata": {},
   "outputs": [],
   "source": [
    "# Puts it in the scijava ObjectService for automatic discovery\n",
    "ij.object().addObject(convertedAtlas)\n",
    "\n"
   ]
  },
  {
   "cell_type": "code",
   "execution_count": 17,
   "id": "ecd959eb",
   "metadata": {},
   "outputs": [
    {
     "data": {
      "text/plain": [
       "<java object 'java.util.concurrent.FutureTask'>"
      ]
     },
     "execution_count": 17,
     "metadata": {},
     "output_type": "execute_result"
    }
   ],
   "source": [
    "# Starts ABBA\n",
    "\n",
    "# .. but before : logger, please shut up\n",
    "DebugTools = jimport('loci.common.DebugTools')\n",
    "DebugTools.enableLogging('INFO')\n",
    "\n",
    "# Ok, let's start ABBA and its BDV view (it's also possible to start it without any GUI, \n",
    "# or even to build another GUI with a Napari view, why not ?)\n",
    "\n",
    "ABBABdvStartCommand = jimport('ch.epfl.biop.atlas.aligner.gui.bdv.ABBABdvStartCommand') # Command import\n",
    "ij.command().run(ABBABdvStartCommand, True) # Starts it"
   ]
  },
  {
   "cell_type": "code",
   "execution_count": null,
   "id": "710a5ffc",
   "metadata": {},
   "outputs": [],
   "source": []
  },
  {
   "cell_type": "code",
   "execution_count": null,
   "id": "ba056d3b",
   "metadata": {},
   "outputs": [],
   "source": []
  },
  {
   "cell_type": "code",
   "execution_count": null,
   "id": "e28fe8ed",
   "metadata": {},
   "outputs": [],
   "source": []
  }
 ],
 "metadata": {
  "kernelspec": {
   "display_name": "Python 3 (ipykernel)",
   "language": "python",
   "name": "python3"
  },
  "language_info": {
   "codemirror_mode": {
    "name": "ipython",
    "version": 3
   },
   "file_extension": ".py",
   "mimetype": "text/x-python",
   "name": "python",
   "nbconvert_exporter": "python",
   "pygments_lexer": "ipython3",
   "version": "3.8.12"
  }
 },
 "nbformat": 4,
 "nbformat_minor": 5
}
