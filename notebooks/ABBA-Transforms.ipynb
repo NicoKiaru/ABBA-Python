{
 "cells": [
  {
   "cell_type": "code",
   "execution_count": 1,
   "id": "7da3cbf8",
   "metadata": {},
   "outputs": [],
   "source": [
    "# Starting PyImageJ, some of these dependencies may be autodiscovered via transitive dependencies, not sure\n",
    "\n",
    "imagej_core_dep = 'net.imagej:imagej:2.3.0'\n",
    "imagej_legacy_dep = 'net.imagej:imagej-legacy:0.38.1'\n",
    "abba_dep = 'ch.epfl.biop:ImageToAtlasRegister:0.2.8'\n",
    "\n",
    "deps_pack = [imagej_core_dep, imagej_legacy_dep, abba_dep]"
   ]
  },
  {
   "cell_type": "code",
   "execution_count": 2,
   "id": "62435da7",
   "metadata": {},
   "outputs": [],
   "source": [
    "# Starts ImageJ, show UI\n",
    "import imagej\n",
    "ij = imagej.init(deps_pack, headless=False)\n",
    "ij.ui().showUI()"
   ]
  },
  {
   "cell_type": "code",
   "execution_count": 9,
   "id": "99674331",
   "metadata": {},
   "outputs": [
    {
     "data": {
      "text/plain": [
       "<java object 'java.util.concurrent.FutureTask'>"
      ]
     },
     "execution_count": 9,
     "metadata": {},
     "output_type": "execute_result"
    }
   ],
   "source": [
    "# Importing necessary classes from Java for the next cell, the hard one\n",
    "\n",
    "from scyjava import jimport\n",
    "import jpype\n",
    "import jpype.imports\n",
    "from jpype.types import *\n",
    "from jpype import JImplements, JOverride\n",
    "\n",
    "# Starts ABBA\n",
    "\n",
    "# .. but before : logger, please shut up\n",
    "DebugTools = jimport('loci.common.DebugTools')\n",
    "DebugTools.enableLogging('INFO')\n",
    "\n",
    "# Ok, let's start ABBA and its BDV view (it's also possible to start it without any GUI, \n",
    "# or even to build another GUI with a Napari view, why not ?)\n",
    "\n",
    "ABBABdvStartCommand = jimport('ch.epfl.biop.atlas.aligner.gui.bdv.ABBABdvStartCommand') # Command import\n",
    "ij.command().run(ABBABdvStartCommand, True) # Starts it with the converted brainglobe atlas in the coronal orientation"
   ]
  },
  {
   "cell_type": "markdown",
   "id": "1a8e2df6",
   "metadata": {},
   "source": [
    "## Download serial sections examples\n",
    "\n",
    "Download sections 30, 40, 50 from the zenodo repository: https://zenodo.org/record/4715656#.Ybe-8Fko_iE (around 100Mb per section...)\n",
    "\n",
    "Files are put in the current repository, under the `images` folder. If files have already been downloaded, the download will be skipped."
   ]
  },
  {
   "cell_type": "code",
   "execution_count": 5,
   "id": "5a997a49",
   "metadata": {},
   "outputs": [],
   "source": [
    "import os\n",
    "from bg_atlasapi import utils\n",
    "from pathlib import Path\n",
    "cwd = os.getcwd() # gets current path\n",
    "\n",
    "utils.check_internet_connection()\n",
    "base_zenodo_url = 'https://zenodo.org/record/4715656/'\n",
    "\n",
    "basePath = cwd+'/images/'\n",
    "\n",
    "def downloadIfNecessary(section_name):\n",
    "    outputPath = Path(basePath+section_name)\n",
    "    if not outputPath.exists():\n",
    "        url = 'https://zenodo.org/record/4715656/files/'+section_name+'?download=1'\n",
    "        utils.retrieve_over_http(url, outputPath)\n",
    "    \n",
    "downloadIfNecessary('S30.ome.tiff') #https://zenodo.org/record/4715656/files/S30.ome.tiff?download=1\n",
    "downloadIfNecessary('S40.ome.tiff') #https://zenodo.org/record/4715656/files/S40.ome.tiff?download=1\n",
    "downloadIfNecessary('S50.ome.tiff') #https://zenodo.org/record/4715656/files/S50.ome.tiff?download=1\n"
   ]
  },
  {
   "cell_type": "code",
   "execution_count": 6,
   "id": "319ff033",
   "metadata": {},
   "outputs": [],
   "source": [
    "# Let's get the multipositioner object \n",
    "MultiSlicePositioner = jimport('ch.epfl.biop.atlas.aligner.MultiSlicePositioner')\n",
    "\n",
    "# There's only one multipositioner instance in the object service\n",
    "# https://javadoc.scijava.org/SciJava/org/scijava/object/ObjectService.html\n",
    "mp = ij.object().getObjects(MultiSlicePositioner).get(0)\n"
   ]
  },
  {
   "cell_type": "code",
   "execution_count": 10,
   "id": "c7389c09",
   "metadata": {},
   "outputs": [
    {
     "data": {
      "text/plain": [
       "<java object 'java.util.concurrent.FutureTask'>"
      ]
     },
     "execution_count": 10,
     "metadata": {},
     "output_type": "execute_result"
    },
    {
     "name": "stderr",
     "output_type": "stream",
     "text": [
      "[java.lang.Enum.toString] could not reopen file - deleting invalid memo file: C:\\Users\\chiarutt\\Dropbox\\BIOP\\ABBA-Python\\notebooks\\images\\.S30.ome.tiff.bfmemo\n",
      "[java.lang.Enum.toString] OMETiffReader initializing C:\\Users\\chiarutt\\Dropbox\\BIOP\\ABBA-Python\\notebooks\\images\\S30.ome.tiff\n",
      "[java.lang.Enum.toString] Reading IFDs\n",
      "[java.lang.Enum.toString] Populating metadata\n",
      "[java.lang.Enum.toString] Unknown JPEG 2000 box 0x290000 at 9292\n",
      "[java.lang.Enum.toString] File is a raw codestream not a JP2.\n",
      "[java.lang.Enum.toString] Unknown JPEG 2000 box 0x290000 at 89614138\n",
      "[java.lang.Enum.toString] File is a raw codestream not a JP2.\n",
      "[java.lang.Enum.toString] Unknown JPEG 2000 box 0x9f9d6c1 at 78079627\n",
      "[java.lang.Enum.toString] Attempts to set opener settings for file format OME-TIFF; data location = C:\\Users\\chiarutt\\Dropbox\\BIOP\\ABBA-Python\\notebooks\\images\\S30.ome.tiff\n",
      "[java.lang.Enum.toString] No name found for serie 0 ch 0 setting name to ch_0\n",
      "[java.lang.Enum.toString] No name found for serie 0 ch 1 setting name to ch_1\n",
      "[java.lang.Enum.toString] Could not access omeMeta.getPlanePosition serie 0\n",
      "[java.lang.Enum.toString] ch.epfl.biop.java.utilities.roi.ConvertibleRois[java.lang.Enum.toString] \n",
      "[java.lang.Enum.toString]  z position changed[java.lang.Enum.toString] \n",
      "[java.lang.Enum.toString] Creating slice S30.tif-ch0...\n",
      "[java.lang.Enum.toString] S30.tif-ch0 created[java.lang.Enum.toString] \n",
      "[java.lang.Enum.toString] Initializing S30.tif-ch0[java.lang.Enum.toString] \n",
      "[java.lang.Enum.toString] S30.tif-ch0 z position changed[java.lang.Enum.toString] \n",
      "[java.lang.Enum.toString] S30.tif-ch0 deselected[java.lang.Enum.toString] \n",
      "[java.lang.Enum.toString] Slice S30.tif-ch0 created!\n",
      "[java.lang.Enum.toString] Multipositioner : Slice added\n",
      "[java.lang.Enum.toString] could not reopen file - deleting invalid memo file: C:\\Users\\chiarutt\\Dropbox\\BIOP\\ABBA-Python\\notebooks\\images\\.S40.ome.tiff.bfmemo\n",
      "[java.lang.Enum.toString] OMETiffReader initializing C:\\Users\\chiarutt\\Dropbox\\BIOP\\ABBA-Python\\notebooks\\images\\S40.ome.tiff\n",
      "[java.lang.Enum.toString] Reading IFDs\n",
      "[java.lang.Enum.toString] Populating metadata\n",
      "[java.lang.Enum.toString] Unknown JPEG 2000 box 0x290000 at 9596\n",
      "[java.lang.Enum.toString] File is a raw codestream not a JP2.\n",
      "[java.lang.Enum.toString] Unknown JPEG 2000 box 0x290000 at 84173776\n",
      "[java.lang.Enum.toString] File is a raw codestream not a JP2.\n",
      "[java.lang.Enum.toString] Unknown JPEG 2000 box 0x4ec274e6 at 72639265\n",
      "[java.lang.Enum.toString] Attempts to set opener settings for file format OME-TIFF; data location = C:\\Users\\chiarutt\\Dropbox\\BIOP\\ABBA-Python\\notebooks\\images\\S40.ome.tiff\n",
      "[java.lang.Enum.toString] OMETiffReader initializing C:\\Users\\chiarutt\\Dropbox\\BIOP\\ABBA-Python\\notebooks\\images\\S40.ome.tiff\n",
      "[java.lang.Enum.toString] Reading IFDs\n",
      "[java.lang.Enum.toString] Populating metadata\n",
      "[java.lang.Enum.toString] Unknown JPEG 2000 box 0x290000 at 9596\n",
      "[java.lang.Enum.toString] File is a raw codestream not a JP2.\n",
      "[java.lang.Enum.toString] Unknown JPEG 2000 box 0x290000 at 84173776\n",
      "[java.lang.Enum.toString] File is a raw codestream not a JP2.\n",
      "[java.lang.Enum.toString] Unknown JPEG 2000 box 0x4ec274e6 at 72639265\n",
      "[java.lang.Enum.toString] No name found for serie 0 ch 0 setting name to ch_0\n",
      "[java.lang.Enum.toString] No name found for serie 0 ch 1 setting name to ch_1\n",
      "[java.lang.Enum.toString] Could not access omeMeta.getPlanePosition serie 0\n",
      "[java.lang.Enum.toString] ch.epfl.biop.java.utilities.roi.ConvertibleRois[java.lang.Enum.toString] \n",
      "[java.lang.Enum.toString]  z position changed[java.lang.Enum.toString] \n",
      "[java.lang.Enum.toString] Creating slice S40.tif-ch0...\n",
      "[java.lang.Enum.toString] S40.tif-ch0 created[java.lang.Enum.toString] \n",
      "[java.lang.Enum.toString] Initializing S40.tif-ch0[java.lang.Enum.toString] \n",
      "[java.lang.Enum.toString] S40.tif-ch0 z position changed[java.lang.Enum.toString] \n",
      "[java.lang.Enum.toString] S40.tif-ch0 deselected[java.lang.Enum.toString] \n",
      "[java.lang.Enum.toString] Slice S40.tif-ch0 created!\n",
      "[java.lang.Enum.toString] Multipositioner : Slice added\n",
      "[java.lang.Enum.toString] could not reopen file - deleting invalid memo file: C:\\Users\\chiarutt\\Dropbox\\BIOP\\ABBA-Python\\notebooks\\images\\.S50.ome.tiff.bfmemo\n",
      "[java.lang.Enum.toString] OMETiffReader initializing C:\\Users\\chiarutt\\Dropbox\\BIOP\\ABBA-Python\\notebooks\\images\\S50.ome.tiff\n",
      "[java.lang.Enum.toString] Reading IFDs\n",
      "[java.lang.Enum.toString] Populating metadata\n",
      "[java.lang.Enum.toString] Unknown JPEG 2000 box 0x290000 at 9404\n",
      "[java.lang.Enum.toString] File is a raw codestream not a JP2.\n",
      "[java.lang.Enum.toString] Unknown JPEG 2000 box 0x290000 at 86850234\n",
      "[java.lang.Enum.toString] File is a raw codestream not a JP2.\n",
      "[java.lang.Enum.toString] Unknown JPEG 2000 box 0x765150c4 at 75315723\n",
      "[java.lang.Enum.toString] Attempts to set opener settings for file format OME-TIFF; data location = C:\\Users\\chiarutt\\Dropbox\\BIOP\\ABBA-Python\\notebooks\\images\\S50.ome.tiff\n",
      "[java.lang.Enum.toString] OMETiffReader initializing C:\\Users\\chiarutt\\Dropbox\\BIOP\\ABBA-Python\\notebooks\\images\\S50.ome.tiff\n",
      "[java.lang.Enum.toString] Reading IFDs\n",
      "[java.lang.Enum.toString] Populating metadata\n",
      "[java.lang.Enum.toString] Unknown JPEG 2000 box 0x290000 at 9404\n",
      "[java.lang.Enum.toString] File is a raw codestream not a JP2.\n",
      "[java.lang.Enum.toString] Unknown JPEG 2000 box 0x290000 at 86850234\n",
      "[java.lang.Enum.toString] File is a raw codestream not a JP2.\n",
      "[java.lang.Enum.toString] Unknown JPEG 2000 box 0x765150c4 at 75315723\n",
      "[java.lang.Enum.toString] No name found for serie 0 ch 0 setting name to ch_0\n",
      "[java.lang.Enum.toString] No name found for serie 0 ch 1 setting name to ch_1\n",
      "[java.lang.Enum.toString] OMETiffReader initializing C:\\Users\\chiarutt\\Dropbox\\BIOP\\ABBA-Python\\notebooks\\images\\S50.ome.tiff\n",
      "[java.lang.Enum.toString] Reading IFDs\n",
      "[java.lang.Enum.toString] Populating metadata\n",
      "[java.lang.Enum.toString] Unknown JPEG 2000 box 0x290000 at 9404\n",
      "[java.lang.Enum.toString] File is a raw codestream not a JP2.\n",
      "[java.lang.Enum.toString] Unknown JPEG 2000 box 0x290000 at 86850234\n",
      "[java.lang.Enum.toString] File is a raw codestream not a JP2.\n",
      "[java.lang.Enum.toString] Unknown JPEG 2000 box 0x765150c4 at 75315723\n",
      "[java.lang.Enum.toString] Could not access omeMeta.getPlanePosition serie 0\n",
      "[java.lang.Enum.toString] OMETiffReader initializing C:\\Users\\chiarutt\\Dropbox\\BIOP\\ABBA-Python\\notebooks\\images\\S50.ome.tiff\n",
      "[java.lang.Enum.toString] Reading IFDs\n",
      "[java.lang.Enum.toString] Populating metadata\n",
      "[java.lang.Enum.toString] Unknown JPEG 2000 box 0x290000 at 9404\n",
      "[java.lang.Enum.toString] File is a raw codestream not a JP2.\n",
      "[java.lang.Enum.toString] Unknown JPEG 2000 box 0x290000 at 86850234\n",
      "[java.lang.Enum.toString] File is a raw codestream not a JP2.\n",
      "[java.lang.Enum.toString] Unknown JPEG 2000 box 0x765150c4 at 75315723\n",
      "[java.lang.Enum.toString] OMETiffReader initializing C:\\Users\\chiarutt\\Dropbox\\BIOP\\ABBA-Python\\notebooks\\images\\S50.ome.tiff\n",
      "[java.lang.Enum.toString] Reading IFDs\n",
      "[java.lang.Enum.toString] Populating metadata\n",
      "[java.lang.Enum.toString] Unknown JPEG 2000 box 0x290000 at 9404\n",
      "[java.lang.Enum.toString] File is a raw codestream not a JP2.\n",
      "[java.lang.Enum.toString] Unknown JPEG 2000 box 0x290000 at 86850234\n",
      "[java.lang.Enum.toString] File is a raw codestream not a JP2.\n",
      "[java.lang.Enum.toString] Unknown JPEG 2000 box 0x765150c4 at 75315723\n",
      "[java.lang.Enum.toString] OMETiffReader initializing C:\\Users\\chiarutt\\Dropbox\\BIOP\\ABBA-Python\\notebooks\\images\\S50.ome.tiff\n",
      "[java.lang.Enum.toString] Reading IFDs\n",
      "[java.lang.Enum.toString] Populating metadata\n",
      "[java.lang.Enum.toString] Unknown JPEG 2000 box 0x290000 at 9404\n",
      "[java.lang.Enum.toString] File is a raw codestream not a JP2.\n",
      "[java.lang.Enum.toString] Unknown JPEG 2000 box 0x290000 at 86850234\n",
      "[java.lang.Enum.toString] File is a raw codestream not a JP2.\n",
      "[java.lang.Enum.toString] Unknown JPEG 2000 box 0x765150c4 at 75315723\n",
      "[java.lang.Enum.toString] ch.epfl.biop.java.utilities.roi.ConvertibleRois[java.lang.Enum.toString] \n",
      "[java.lang.Enum.toString]  z position changed[java.lang.Enum.toString] \n",
      "[java.lang.Enum.toString] Creating slice S50.tif-ch0...\n",
      "[java.lang.Enum.toString] S50.tif-ch0 created[java.lang.Enum.toString] \n",
      "[java.lang.Enum.toString] Initializing S50.tif-ch0[java.lang.Enum.toString] \n",
      "[java.lang.Enum.toString] S50.tif-ch0 z position changed[java.lang.Enum.toString] \n",
      "[java.lang.Enum.toString] S50.tif-ch0 deselected[java.lang.Enum.toString] \n",
      "[java.lang.Enum.toString] Slice S50.tif-ch0 created!\n",
      "[java.lang.Enum.toString] Multipositioner : Slice added\n",
      "[java.lang.Enum.toString] S30.tif-ch0 selected[java.lang.Enum.toString] \n",
      "[java.lang.Enum.toString] S40.tif-ch0 selected[java.lang.Enum.toString] \n",
      "[java.lang.Enum.toString] S50.tif-ch0 selected[java.lang.Enum.toString] \n"
     ]
    },
    {
     "name": "stderr",
     "output_type": "stream",
     "text": [
      "[java.lang.Enum.toString] S30.tif-ch0 deselected[java.lang.Enum.toString] \n",
      "[java.lang.Enum.toString] S50.tif-ch0 deselected[java.lang.Enum.toString] \n",
      "[java.lang.Enum.toString] S30.tif-ch0 selected[java.lang.Enum.toString] \n",
      "[java.lang.Enum.toString] S50.tif-ch0 selected[java.lang.Enum.toString] \n"
     ]
    }
   ],
   "source": [
    "# Let's import the files using Bio-Formats.\n",
    "# The list of all commands is accessible here:\n",
    "# https://github.com/BIOP/ijp-imagetoatlas/tree/master/src/main/java/ch/epfl/biop/atlas/aligner/command\n",
    "\n",
    "ImportImageCommand = jimport('ch.epfl.biop.atlas.aligner.command.ImportImageCommand')\n",
    "\n",
    "# Here we want to import images: check\n",
    "# https://github.com/BIOP/ijp-imagetoatlas/blob/master/src/main/java/ch/epfl/biop/atlas/aligner/command/ImportImageCommand.java\n",
    "\n",
    "File = jimport('java.io.File')\n",
    "\n",
    "file_s30 = File(basePath+'S30.ome.tiff')\n",
    "file_s40 = File(basePath+'S40.ome.tiff')\n",
    "file_s50 = File(basePath+'S50.ome.tiff')\n",
    "\n",
    "FileArray = JArray(File)\n",
    "files = FileArray(3)\n",
    "\n",
    "files[0] = file_s30\n",
    "files[1] = file_s40\n",
    "files[2] = file_s50\n",
    "\n",
    "# Any missing input parameter will lead to a popup window asking the missing argument to the user\n",
    "ij.command().run(ImportImageCommand, True,\\\n",
    "                 \"files\", files,\\\n",
    "                 \"mp\", mp,\\\n",
    "                 \"split_rgb_channels\", False,\\\n",
    "                 \"slice_axis_initial\", 5.0,\\\n",
    "                 \"increment_between_slices\", 0.04\\\n",
    "                )\n"
   ]
  },
  {
   "cell_type": "code",
   "execution_count": 11,
   "id": "4c913344",
   "metadata": {},
   "outputs": [],
   "source": [
    "mp.selectSlice(mp.getSlices()) # select all slices"
   ]
  },
  {
   "cell_type": "code",
   "execution_count": 12,
   "id": "7a3c7fdb",
   "metadata": {},
   "outputs": [],
   "source": [
    "mp.getReslicedAtlas().setRotateY(0.05) # Small correction in Y slicing"
   ]
  },
  {
   "cell_type": "code",
   "execution_count": 13,
   "id": "1d17f28e",
   "metadata": {},
   "outputs": [
    {
     "name": "stderr",
     "output_type": "stream",
     "text": [
      "[java.lang.Enum.toString] S30.tif-ch0 deselected[java.lang.Enum.toString] \r\n",
      "[java.lang.Enum.toString] S40.tif-ch0 deselected[java.lang.Enum.toString] \r\n",
      "[java.lang.Enum.toString] S50.tif-ch0 deselected[java.lang.Enum.toString] \r\n"
     ]
    }
   ],
   "source": [
    "mp.deselectSlice(mp.getSlices()) # deselect all"
   ]
  },
  {
   "cell_type": "code",
   "execution_count": 14,
   "id": "d0cb63e0",
   "metadata": {},
   "outputs": [
    {
     "name": "stderr",
     "output_type": "stream",
     "text": [
      "[java.lang.Enum.toString] S50.tif-ch0 selected[java.lang.Enum.toString] \r\n"
     ]
    }
   ],
   "source": [
    "mp.selectSlice(mp.getSlices().get(2)) # select the last slice"
   ]
  },
  {
   "cell_type": "code",
   "execution_count": 15,
   "id": "e5b46eae",
   "metadata": {},
   "outputs": [],
   "source": [
    "# The slices are always sorted from small z to high z. To keep track of who's who, reference them before moving them\n",
    "slice30 = mp.getSlices().get(0) \n",
    "slice40 = mp.getSlices().get(1)\n",
    "slice50 = mp.getSlices().get(2)"
   ]
  },
  {
   "cell_type": "code",
   "execution_count": 17,
   "id": "02735444",
   "metadata": {},
   "outputs": [
    {
     "name": "stderr",
     "output_type": "stream",
     "text": [
      "[java.lang.Enum.toString] S50.tif-ch0 z position changed[java.lang.Enum.toString] \n",
      "[java.lang.Enum.toString] S30.tif-ch0 z position changed[java.lang.Enum.toString] \n",
      "[java.lang.Enum.toString] S40.tif-ch0 z position changed[java.lang.Enum.toString] \n"
     ]
    }
   ],
   "source": [
    "mp.moveSlice(slice50,9.5)\n",
    "mp.moveSlice(slice40,8.2)\n",
    "mp.moveSlice(slice30,7.5)"
   ]
  },
  {
   "cell_type": "code",
   "execution_count": 18,
   "id": "fead0beb",
   "metadata": {},
   "outputs": [
    {
     "name": "stderr",
     "output_type": "stream",
     "text": [
      "[java.lang.Enum.toString] S50.tif-ch0 deselected[java.lang.Enum.toString] \r\n",
      "[java.lang.Enum.toString] S30.tif-ch0 selected[java.lang.Enum.toString] \r\n",
      "[java.lang.Enum.toString] S40.tif-ch0 selected[java.lang.Enum.toString] \r\n",
      "[java.lang.Enum.toString] S50.tif-ch0 selected[java.lang.Enum.toString] \r\n"
     ]
    }
   ],
   "source": [
    "# Simple actions are accessible through mp.whatever, but most actions are executed on selected slices\n",
    "# Almost all actions are executed asynchronously\n",
    "\n",
    "# For a registration : let's select all slices\n",
    "mp.selectSlice(mp.getSlices()) # select all"
   ]
  },
  {
   "cell_type": "code",
   "execution_count": 19,
   "id": "a37a454f",
   "metadata": {},
   "outputs": [
    {
     "data": {
      "text/plain": [
       "<java object 'java.util.concurrent.FutureTask'>"
      ]
     },
     "execution_count": 19,
     "metadata": {},
     "output_type": "execute_result"
    },
    {
     "name": "stderr",
     "output_type": "stream",
     "text": [
      "[java.lang.Enum.toString] ch.epfl.biop.wrappers.elastix.RegisterHelper[java.lang.Enum.toString] \n",
      "[java.lang.Enum.toString] ch.epfl.biop.wrappers.elastix.RegisterHelper[java.lang.Enum.toString] \n",
      "[java.lang.Enum.toString] ch.epfl.biop.java.utilities.image.ConvertibleImage[java.lang.Enum.toString] \n",
      "[java.lang.Enum.toString] ch.epfl.biop.java.utilities.image.ConvertibleImage[java.lang.Enum.toString] \n",
      "[java.lang.Enum.toString] ch.epfl.biop.wrappers.elastix.RegisterHelper[java.lang.Enum.toString] \n",
      "[java.lang.Enum.toString] ch.epfl.biop.wrappers.elastix.RegParamAffine_Fast[java.lang.Enum.toString] \n",
      "[java.lang.Enum.toString] ch.epfl.biop.java.utilities.image.ConvertibleImage[java.lang.Enum.toString] \n",
      "[java.lang.Enum.toString] ch.epfl.biop.java.utilities.image.ConvertibleImage[java.lang.Enum.toString] \n",
      "[java.lang.Enum.toString] ch.epfl.biop.java.utilities.image.ConvertibleImage[java.lang.Enum.toString] \n",
      "[java.lang.Enum.toString] ch.epfl.biop.java.utilities.image.ConvertibleImage[java.lang.Enum.toString] \n",
      "[java.lang.Enum.toString] ch.epfl.biop.wrappers.elastix.RegParamAffine_Fast[java.lang.Enum.toString] \n",
      "[java.lang.Enum.toString] ch.epfl.biop.wrappers.elastix.RegParamAffine_Fast[java.lang.Enum.toString] \n",
      "[java.lang.Enum.toString] Fixed image fixé[java.lang.Enum.toString] \n",
      "[java.lang.Enum.toString] NR Converting:ij.ImagePlus->java.io.File[java.lang.Enum.toString] \n",
      "[java.lang.Enum.toString] NR Converting:ij.ImagePlus->java.io.File[java.lang.Enum.toString] \n",
      "[java.lang.Enum.toString] Fixed image fixé[java.lang.Enum.toString] \n",
      "[java.lang.Enum.toString] Fixed image fixé[java.lang.Enum.toString] \n",
      "[java.lang.Enum.toString] Found -> java.io.File State[java.lang.Enum.toString] \n",
      "[java.lang.Enum.toString] NR Converting:ij.ImagePlus->java.io.File[java.lang.Enum.toString] \n",
      "[java.lang.Enum.toString] NR Converting:ij.ImagePlus->java.io.File[java.lang.Enum.toString] \n",
      "[java.lang.Enum.toString] NR Converting:ij.ImagePlus->java.io.File[java.lang.Enum.toString] \n",
      "[java.lang.Enum.toString] Found -> java.io.File State[java.lang.Enum.toString] \n",
      "[java.lang.Enum.toString] Found -> java.io.File State[java.lang.Enum.toString] \n",
      "[java.lang.Enum.toString] Found -> java.io.File State[java.lang.Enum.toString] \n",
      "[java.lang.Enum.toString] NR Converting:ij.ImagePlus->java.io.File[java.lang.Enum.toString] \n",
      "[java.lang.Enum.toString] NR Converting:ch.epfl.biop.wrappers.elastix.RegParamAffine_Fast->ch.epfl.biop.wrappers.elastix.RegistrationParameters[java.lang.Enum.toString] \n",
      "[java.lang.Enum.toString] NR Converting:ch.epfl.biop.wrappers.elastix.RegParamAffine_Fast->ch.epfl.biop.wrappers.elastix.RegistrationParameters[java.lang.Enum.toString] \n",
      "[java.lang.Enum.toString] R Converting:ch.epfl.biop.wrappers.elastix.RegistrationParameters->java.io.File[java.lang.Enum.toString] \n",
      "[java.lang.Enum.toString] R Converting:ch.epfl.biop.wrappers.elastix.RegistrationParameters->java.io.File[java.lang.Enum.toString] \n",
      "[java.lang.Enum.toString] Found -> java.io.File State[java.lang.Enum.toString] \n",
      "[java.lang.Enum.toString] Found -> java.io.File State[java.lang.Enum.toString] \n",
      "[java.lang.Enum.toString] NR Converting:ch.epfl.biop.wrappers.elastix.RegParamAffine_Fast->ch.epfl.biop.wrappers.elastix.RegistrationParameters[java.lang.Enum.toString] \n",
      "[java.lang.Enum.toString] R Converting:ch.epfl.biop.wrappers.elastix.RegistrationParameters->java.io.File[java.lang.Enum.toString] \n",
      "[java.lang.Enum.toString] Field UseBinaryFormatForTransformationParameters not found in itc.transforms.elastix.ElastixAffineTransform class.[java.lang.Enum.toString] \n",
      "[java.lang.Enum.toString] Cannot append a transformation to a source of class : TransformedSource[java.lang.Enum.toString] \n",
      "[java.lang.Enum.toString] You can try 'mutate' or wrap as transformed Source[java.lang.Enum.toString] \n",
      "[java.lang.Enum.toString] Cannot append a transformation to a source of class : TransformedSource[java.lang.Enum.toString] \n",
      "[java.lang.Enum.toString] You can try 'mutate' or wrap as transformed Source[java.lang.Enum.toString] \n",
      "[java.lang.Enum.toString] S50.tif-ch0 slices changed[java.lang.Enum.toString] \n",
      "[java.lang.Enum.toString] Field UseBinaryFormatForTransformationParameters not found in itc.transforms.elastix.ElastixAffineTransform class.[java.lang.Enum.toString] \n",
      "[java.lang.Enum.toString] Cannot append a transformation to a source of class : TransformedSource[java.lang.Enum.toString] \n",
      "[java.lang.Enum.toString] You can try 'mutate' or wrap as transformed Source[java.lang.Enum.toString] \n",
      "[java.lang.Enum.toString] Cannot append a transformation to a source of class : TransformedSource[java.lang.Enum.toString] \n",
      "[java.lang.Enum.toString] You can try 'mutate' or wrap as transformed Source[java.lang.Enum.toString] \n",
      "[java.lang.Enum.toString] S30.tif-ch0 slices changed[java.lang.Enum.toString] \n",
      "[java.lang.Enum.toString] Field UseBinaryFormatForTransformationParameters not found in itc.transforms.elastix.ElastixAffineTransform class.[java.lang.Enum.toString] \n",
      "[java.lang.Enum.toString] Cannot append a transformation to a source of class : TransformedSource[java.lang.Enum.toString] \n",
      "[java.lang.Enum.toString] You can try 'mutate' or wrap as transformed Source[java.lang.Enum.toString] \n",
      "[java.lang.Enum.toString] Cannot append a transformation to a source of class : TransformedSource[java.lang.Enum.toString] \n",
      "[java.lang.Enum.toString] You can try 'mutate' or wrap as transformed Source[java.lang.Enum.toString] \n",
      "[java.lang.Enum.toString] S40.tif-ch0 slices changed[java.lang.Enum.toString] \n"
     ]
    }
   ],
   "source": [
    "# Let's run an affine registration on the green slice channel and on the reference atlas channel\n",
    "# elastix needs to be setup, see https://biop.github.io/ijp-imagetoatlas/installation.html\n",
    "RegistrationElastixAffineCommand = jimport('ch.epfl.biop.atlas.aligner.command.RegistrationElastixAffineCommand')\n",
    "\n",
    "ij.command().run(RegistrationElastixAffineCommand, True,\n",
    "                 \"mp\", mp,\\\n",
    "                 \"pixel_size_micrometer\", 40,\\\n",
    "                 \"show_imageplus_registration_result\", False,\\\n",
    "                 \"background_offset_value_moving\",0,\\\n",
    "                 \"atlas_image_channel\",0,\\\n",
    "                 \"slice_image_channel\",1) # second channel, 0-based"
   ]
  },
  {
   "cell_type": "code",
   "execution_count": 20,
   "id": "89311547",
   "metadata": {},
   "outputs": [
    {
     "data": {
      "text/plain": [
       "<java object 'java.util.concurrent.FutureTask'>"
      ]
     },
     "execution_count": 20,
     "metadata": {},
     "output_type": "execute_result"
    },
    {
     "name": "stderr",
     "output_type": "stream",
     "text": [
      "[java.lang.Enum.toString] ch.epfl.biop.wrappers.elastix.RegisterHelper[java.lang.Enum.toString] \n",
      "[java.lang.Enum.toString] ch.epfl.biop.wrappers.elastix.RegisterHelper[java.lang.Enum.toString] \n",
      "[java.lang.Enum.toString] ch.epfl.biop.wrappers.elastix.RegisterHelper[java.lang.Enum.toString] \n",
      "[java.lang.Enum.toString] ch.epfl.biop.java.utilities.image.ConvertibleImage[java.lang.Enum.toString] \n",
      "[java.lang.Enum.toString] ch.epfl.biop.java.utilities.image.ConvertibleImage[java.lang.Enum.toString] \n",
      "[java.lang.Enum.toString] ch.epfl.biop.java.utilities.image.ConvertibleImage[java.lang.Enum.toString] \n",
      "[java.lang.Enum.toString] ch.epfl.biop.java.utilities.image.ConvertibleImage[java.lang.Enum.toString] \n",
      "[java.lang.Enum.toString] ch.epfl.biop.java.utilities.image.ConvertibleImage[java.lang.Enum.toString] \n",
      "[java.lang.Enum.toString] ch.epfl.biop.java.utilities.image.ConvertibleImage[java.lang.Enum.toString] \n",
      "[java.lang.Enum.toString] Fixed image fixé[java.lang.Enum.toString] \n",
      "[java.lang.Enum.toString] ch.epfl.biop.wrappers.elastix.RegParamBSpline_Default[java.lang.Enum.toString] \n",
      "[java.lang.Enum.toString] NR Converting:ij.ImagePlus->java.io.File[java.lang.Enum.toString] \n",
      "[java.lang.Enum.toString] NR Converting:ij.ImagePlus->java.io.File[java.lang.Enum.toString] \n",
      "[java.lang.Enum.toString] Found -> java.io.File State[java.lang.Enum.toString] \n",
      "[java.lang.Enum.toString] Found -> java.io.File State[java.lang.Enum.toString] \n",
      "[java.lang.Enum.toString] NR Converting:ch.epfl.biop.wrappers.elastix.RegParamBSpline_Default->ch.epfl.biop.wrappers.elastix.RegistrationParameters[java.lang.Enum.toString] \n",
      "[java.lang.Enum.toString] R Converting:ch.epfl.biop.wrappers.elastix.RegistrationParameters->java.io.File[java.lang.Enum.toString] \n",
      "[java.lang.Enum.toString] Fixed image fixé[java.lang.Enum.toString] \n",
      "[java.lang.Enum.toString] ch.epfl.biop.wrappers.elastix.RegParamBSpline_Default[java.lang.Enum.toString] \n",
      "[java.lang.Enum.toString] NR Converting:ij.ImagePlus->java.io.File[java.lang.Enum.toString] \n",
      "[java.lang.Enum.toString] NR Converting:ij.ImagePlus->java.io.File[java.lang.Enum.toString] \n",
      "[java.lang.Enum.toString] Found -> java.io.File State[java.lang.Enum.toString] \n",
      "[java.lang.Enum.toString] Found -> java.io.File State[java.lang.Enum.toString] \n",
      "[java.lang.Enum.toString] NR Converting:ch.epfl.biop.wrappers.elastix.RegParamBSpline_Default->ch.epfl.biop.wrappers.elastix.RegistrationParameters[java.lang.Enum.toString] \n",
      "[java.lang.Enum.toString] R Converting:ch.epfl.biop.wrappers.elastix.RegistrationParameters->java.io.File[java.lang.Enum.toString] \n",
      "[java.lang.Enum.toString] Fixed image fixé[java.lang.Enum.toString] \n",
      "[java.lang.Enum.toString] ch.epfl.biop.wrappers.elastix.RegParamBSpline_Default[java.lang.Enum.toString] \n",
      "[java.lang.Enum.toString] NR Converting:ij.ImagePlus->java.io.File[java.lang.Enum.toString] \n",
      "[java.lang.Enum.toString] NR Converting:ij.ImagePlus->java.io.File[java.lang.Enum.toString] \n",
      "[java.lang.Enum.toString] Found -> java.io.File State[java.lang.Enum.toString] \n",
      "[java.lang.Enum.toString] Found -> java.io.File State[java.lang.Enum.toString] \n",
      "[java.lang.Enum.toString] NR Converting:ch.epfl.biop.wrappers.elastix.RegParamBSpline_Default->ch.epfl.biop.wrappers.elastix.RegistrationParameters[java.lang.Enum.toString] \n",
      "[java.lang.Enum.toString] R Converting:ch.epfl.biop.wrappers.elastix.RegistrationParameters->java.io.File[java.lang.Enum.toString] \n"
     ]
    }
   ],
   "source": [
    "# Let's try spline\n",
    "RegistrationElastixSplineCommand = jimport('ch.epfl.biop.atlas.aligner.command.RegistrationElastixSplineCommand')\n",
    "\n",
    "ij.command().run(RegistrationElastixSplineCommand, True,\n",
    "                 \"mp\", mp,\\\n",
    "                 \"nb_control_points_x\", 12,\\\n",
    "                 \"pixel_size_micrometer\", 20,\\\n",
    "                 \"show_imageplus_registration_result\", False,\\\n",
    "                 \"background_offset_value_moving\",0,\\\n",
    "                 \"atlas_image_channel\",0,\\\n",
    "                 \"slice_image_channel\",1) # second channel, 0-based"
   ]
  },
  {
   "cell_type": "code",
   "execution_count": 21,
   "id": "bdd894b3",
   "metadata": {},
   "outputs": [
    {
     "name": "stderr",
     "output_type": "stream",
     "text": [
      "[java.lang.Enum.toString] Field UseBinaryFormatForTransformationParameters not found in itc.transforms.elastix.ElastixBSplineTransform class.[java.lang.Enum.toString] \n",
      "[java.lang.Enum.toString] ch.epfl.biop.java.utilities.image.ConvertibleImage[java.lang.Enum.toString] \n",
      "[java.lang.Enum.toString] ch.epfl.biop.java.utilities.image.ConvertibleImage[java.lang.Enum.toString] \n",
      "[java.lang.Enum.toString] ch.epfl.biop.java.utilities.roi.ConvertibleRois[java.lang.Enum.toString] \n",
      "[java.lang.Enum.toString] ch.epfl.biop.java.utilities.roi.ConvertibleRois[java.lang.Enum.toString] \n",
      "[java.lang.Enum.toString] ch.epfl.biop.java.utilities.roi.ConvertibleRois[java.lang.Enum.toString] \n",
      "[java.lang.Enum.toString] NR Converting:ch.epfl.biop.java.utilities.roi.types.RealPointList->ch.epfl.biop.java.utilities.roi.types.TransformixInputRoisFile[java.lang.Enum.toString] \n",
      "[java.lang.Enum.toString] Found -> ch.epfl.biop.java.utilities.roi.types.TransformixInputRoisFile State[java.lang.Enum.toString] \n",
      "[java.lang.Enum.toString] Found -> ch.epfl.biop.java.utilities.roi.types.TransformixInputRoisFile State[java.lang.Enum.toString] \n",
      "[java.lang.Enum.toString] C'est null dans le constructeur!![java.lang.Enum.toString] \n",
      "[java.lang.Enum.toString] Output rois set![java.lang.Enum.toString] \n",
      "[java.lang.Enum.toString] NR Converting:ch.epfl.biop.java.utilities.roi.types.TransformixOutputRoisFile->ch.epfl.biop.java.utilities.roi.types.RealPointList[java.lang.Enum.toString] \n",
      "[java.lang.Enum.toString] Field UseBinaryFormatForTransformationParameters not found in itc.transforms.elastix.ElastixBSplineTransform class.[java.lang.Enum.toString] \n",
      "[java.lang.Enum.toString] ch.epfl.biop.java.utilities.image.ConvertibleImage[java.lang.Enum.toString] \n",
      "[java.lang.Enum.toString] ch.epfl.biop.java.utilities.image.ConvertibleImage[java.lang.Enum.toString] \n",
      "[java.lang.Enum.toString] ch.epfl.biop.java.utilities.roi.ConvertibleRois[java.lang.Enum.toString] \n",
      "[java.lang.Enum.toString] ch.epfl.biop.java.utilities.roi.ConvertibleRois[java.lang.Enum.toString] \n",
      "[java.lang.Enum.toString] S30.tif-ch0 slices changed[java.lang.Enum.toString] \n",
      "[java.lang.Enum.toString] ch.epfl.biop.java.utilities.roi.ConvertibleRois[java.lang.Enum.toString] \n",
      "[java.lang.Enum.toString] NR Converting:ch.epfl.biop.java.utilities.roi.types.RealPointList->ch.epfl.biop.java.utilities.roi.types.TransformixInputRoisFile[java.lang.Enum.toString] \n",
      "[java.lang.Enum.toString] Found -> ch.epfl.biop.java.utilities.roi.types.TransformixInputRoisFile State[java.lang.Enum.toString] \n",
      "[java.lang.Enum.toString] Field UseBinaryFormatForTransformationParameters not found in itc.transforms.elastix.ElastixBSplineTransform class.[java.lang.Enum.toString] \n",
      "[java.lang.Enum.toString] ch.epfl.biop.java.utilities.image.ConvertibleImage[java.lang.Enum.toString] \n",
      "[java.lang.Enum.toString] ch.epfl.biop.java.utilities.image.ConvertibleImage[java.lang.Enum.toString] \n",
      "[java.lang.Enum.toString] ch.epfl.biop.java.utilities.roi.ConvertibleRois[java.lang.Enum.toString] \n",
      "[java.lang.Enum.toString] ch.epfl.biop.java.utilities.roi.ConvertibleRois[java.lang.Enum.toString] \n",
      "[java.lang.Enum.toString] ch.epfl.biop.java.utilities.roi.ConvertibleRois[java.lang.Enum.toString] \n",
      "[java.lang.Enum.toString] NR Converting:ch.epfl.biop.java.utilities.roi.types.RealPointList->ch.epfl.biop.java.utilities.roi.types.TransformixInputRoisFile[java.lang.Enum.toString] \n",
      "[java.lang.Enum.toString] Found -> ch.epfl.biop.java.utilities.roi.types.TransformixInputRoisFile State[java.lang.Enum.toString] \n",
      "[java.lang.Enum.toString] Found -> ch.epfl.biop.java.utilities.roi.types.TransformixInputRoisFile State[java.lang.Enum.toString] \n",
      "[java.lang.Enum.toString] C'est null dans le constructeur!![java.lang.Enum.toString] \n",
      "[java.lang.Enum.toString] Output rois set![java.lang.Enum.toString] \n",
      "[java.lang.Enum.toString] NR Converting:ch.epfl.biop.java.utilities.roi.types.TransformixOutputRoisFile->ch.epfl.biop.java.utilities.roi.types.RealPointList[java.lang.Enum.toString] \n",
      "[java.lang.Enum.toString] S50.tif-ch0 slices changed[java.lang.Enum.toString] \n",
      "[java.lang.Enum.toString] Found -> ch.epfl.biop.java.utilities.roi.types.TransformixInputRoisFile State[java.lang.Enum.toString] \n",
      "[java.lang.Enum.toString] C'est null dans le constructeur!![java.lang.Enum.toString] \n",
      "[java.lang.Enum.toString] Output rois set![java.lang.Enum.toString] \n",
      "[java.lang.Enum.toString] NR Converting:ch.epfl.biop.java.utilities.roi.types.TransformixOutputRoisFile->ch.epfl.biop.java.utilities.roi.types.RealPointList[java.lang.Enum.toString] \n",
      "[java.lang.Enum.toString] S40.tif-ch0 slices changed[java.lang.Enum.toString] \n"
     ]
    }
   ],
   "source": [
    "# Let's wait for all registration to finish\n",
    "mp.waitForTasks()"
   ]
  },
  {
   "cell_type": "code",
   "execution_count": 35,
   "id": "93687822",
   "metadata": {},
   "outputs": [
    {
     "name": "stdout",
     "output_type": "stream",
     "text": [
      "CCF coord (mm):[6.605262550289882, 3.853260714522113, 7.503746379170531]\n"
     ]
    }
   ],
   "source": [
    "# Get transformation\n",
    "transformslice30 = slice30.getSlicePixToCCFRealTransform()\n",
    "\n",
    "DoubleArray = JArray(JDouble)\n",
    "\n",
    "coordInImage = DoubleArray(3)\n",
    "coordInCCF = DoubleArray(3)\n",
    "\n",
    "coordInImage[0] = 5000 # X (pixel)\n",
    "coordInImage[1] = 5000 # Y\n",
    "coordInImage[2] = 0 # Z\n",
    "\n",
    "transformslice30.inverse().apply(coordInImage,coordInCCF)\n",
    "\n",
    "print('CCF coord (mm):'+str(coordInCCF))\n"
   ]
  },
  {
   "cell_type": "code",
   "execution_count": null,
   "id": "b9f26097",
   "metadata": {},
   "outputs": [],
   "source": []
  }
 ],
 "metadata": {
  "kernelspec": {
   "display_name": "Python 3 (ipykernel)",
   "language": "python",
   "name": "python3"
  },
  "language_info": {
   "codemirror_mode": {
    "name": "ipython",
    "version": 3
   },
   "file_extension": ".py",
   "mimetype": "text/x-python",
   "name": "python",
   "nbconvert_exporter": "python",
   "pygments_lexer": "ipython3",
   "version": "3.8.12"
  }
 },
 "nbformat": 4,
 "nbformat_minor": 5
}
