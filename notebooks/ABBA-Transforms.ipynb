{
 "cells": [
  {
   "cell_type": "code",
   "execution_count": 1,
   "id": "7da3cbf8",
   "metadata": {},
   "outputs": [],
   "source": [
    "# Starting PyImageJ, some of these dependencies may be autodiscovered via transitive dependencies, not sure\n",
    "\n",
    "imagej_core_dep = 'net.imagej:imagej:2.3.0'\n",
    "imagej_legacy_dep = 'net.imagej:imagej-legacy:0.38.1'\n",
    "abba_dep = 'ch.epfl.biop:ImageToAtlasRegister:0.2.11'\n",
    "\n",
    "deps_pack = [imagej_core_dep, imagej_legacy_dep, abba_dep]"
   ]
  },
  {
   "cell_type": "code",
   "execution_count": 2,
   "id": "62435da7",
   "metadata": {},
   "outputs": [
    {
     "name": "stderr",
     "output_type": "stream",
     "text": [
      "The headless flag of imagej.init is deprecated. Use the mode argument instead.\n"
     ]
    }
   ],
   "source": [
    "# Starts ImageJ, show UI\n",
    "import imagej\n",
    "ij = imagej.init(deps_pack, mode='interactive')\n",
    "ij.ui().showUI()"
   ]
  },
  {
   "cell_type": "code",
   "execution_count": null,
   "id": "99674331",
   "metadata": {},
   "outputs": [],
   "source": [
    "# Importing necessary classes from Java for the next cell, the hard one\n",
    "\n",
    "from scyjava import jimport\n",
    "import jpype\n",
    "import jpype.imports\n",
    "from jpype.types import *\n",
    "from jpype import JImplements, JOverride\n",
    "\n",
    "# Starts ABBA\n",
    "\n",
    "# .. but before : logger, please shut up\n",
    "DebugTools = jimport('loci.common.DebugTools')\n",
    "DebugTools.enableLogging('INFO')\n",
    "\n",
    "# Ok, let's start ABBA and its BDV view (it's also possible to start it without any GUI, \n",
    "# or even to build another GUI with a Napari view, why not ?)\n",
    "\n",
    "ABBABdvStartCommand = jimport('ch.epfl.biop.atlas.aligner.gui.bdv.ABBABdvStartCommand') # Command import\n",
    "ij.command().run(ABBABdvStartCommand, True) # Starts it with the converted brainglobe atlas in the coronal orientation"
   ]
  },
  {
   "cell_type": "markdown",
   "id": "1a8e2df6",
   "metadata": {},
   "source": [
    "## Download serial sections examples\n",
    "\n",
    "Download sections 30, 40, 50 from the zenodo repository: https://zenodo.org/record/4715656#.Ybe-8Fko_iE (around 100Mb per section...)\n",
    "\n",
    "Files are put in the current repository, under the `images` folder. If files have already been downloaded, the download will be skipped."
   ]
  },
  {
   "cell_type": "code",
   "execution_count": null,
   "id": "5a997a49",
   "metadata": {},
   "outputs": [],
   "source": [
    "import os\n",
    "from bg_atlasapi import utils\n",
    "from pathlib import Path\n",
    "cwd = os.getcwd() # gets current path\n",
    "\n",
    "utils.check_internet_connection()\n",
    "base_zenodo_url = 'https://zenodo.org/record/4715656/'\n",
    "\n",
    "basePath = cwd+'/images/'\n",
    "\n",
    "def downloadIfNecessary(section_name):\n",
    "    outputPath = Path(basePath+section_name)\n",
    "    if not outputPath.exists():\n",
    "        url = 'https://zenodo.org/record/4715656/files/'+section_name+'?download=1'\n",
    "        utils.retrieve_over_http(url, outputPath)\n",
    "    \n",
    "downloadIfNecessary('S30.ome.tiff') #https://zenodo.org/record/4715656/files/S30.ome.tiff?download=1\n",
    "downloadIfNecessary('S40.ome.tiff') #https://zenodo.org/record/4715656/files/S40.ome.tiff?download=1\n",
    "downloadIfNecessary('S50.ome.tiff') #https://zenodo.org/record/4715656/files/S50.ome.tiff?download=1\n"
   ]
  },
  {
   "cell_type": "code",
   "execution_count": null,
   "id": "319ff033",
   "metadata": {},
   "outputs": [],
   "source": [
    "# Let's get the multipositioner object \n",
    "MultiSlicePositioner = jimport('ch.epfl.biop.atlas.aligner.MultiSlicePositioner')\n",
    "\n",
    "# There's only one multipositioner instance in the object service\n",
    "# https://javadoc.scijava.org/SciJava/org/scijava/object/ObjectService.html\n",
    "mp = ij.object().getObjects(MultiSlicePositioner).get(0)\n"
   ]
  },
  {
   "cell_type": "code",
   "execution_count": null,
   "id": "c7389c09",
   "metadata": {},
   "outputs": [],
   "source": [
    "# Let's import the files using Bio-Formats.\n",
    "# The list of all commands is accessible here:\n",
    "# https://github.com/BIOP/ijp-imagetoatlas/tree/master/src/main/java/ch/epfl/biop/atlas/aligner/command\n",
    "\n",
    "ImportImageCommand = jimport('ch.epfl.biop.atlas.aligner.command.ImportImageCommand')\n",
    "\n",
    "# Here we want to import images: check\n",
    "# https://github.com/BIOP/ijp-imagetoatlas/blob/master/src/main/java/ch/epfl/biop/atlas/aligner/command/ImportImageCommand.java\n",
    "\n",
    "File = jimport('java.io.File')\n",
    "\n",
    "file_s30 = File(basePath+'S30.ome.tiff')\n",
    "file_s40 = File(basePath+'S40.ome.tiff')\n",
    "file_s50 = File(basePath+'S50.ome.tiff')\n",
    "\n",
    "FileArray = JArray(File)\n",
    "files = FileArray(3)\n",
    "\n",
    "files[0] = file_s30\n",
    "files[1] = file_s40\n",
    "files[2] = file_s50\n",
    "\n",
    "# Any missing input parameter will lead to a popup window asking the missing argument to the user\n",
    "ij.command().run(ImportImageCommand, True,\\\n",
    "                 \"files\", files,\\\n",
    "                 \"mp\", mp,\\\n",
    "                 \"split_rgb_channels\", False,\\\n",
    "                 \"slice_axis_initial\", 5.0,\\\n",
    "                 \"increment_between_slices\", 0.04\\\n",
    "                )\n"
   ]
  },
  {
   "cell_type": "code",
   "execution_count": null,
   "id": "4c913344",
   "metadata": {},
   "outputs": [],
   "source": [
    "mp.selectSlice(mp.getSlices()) # select all slices"
   ]
  },
  {
   "cell_type": "code",
   "execution_count": null,
   "id": "7a3c7fdb",
   "metadata": {},
   "outputs": [],
   "source": [
    "mp.getReslicedAtlas().setRotateY(0.05) # Small correction in Y slicing"
   ]
  },
  {
   "cell_type": "code",
   "execution_count": null,
   "id": "1d17f28e",
   "metadata": {},
   "outputs": [],
   "source": [
    "mp.deselectSlice(mp.getSlices()) # deselect all"
   ]
  },
  {
   "cell_type": "code",
   "execution_count": null,
   "id": "d0cb63e0",
   "metadata": {},
   "outputs": [],
   "source": [
    "mp.selectSlice(mp.getSlices().get(2)) # select the last slice"
   ]
  },
  {
   "cell_type": "code",
   "execution_count": null,
   "id": "e5b46eae",
   "metadata": {},
   "outputs": [],
   "source": [
    "# The slices are always sorted from small z to high z. To keep track of who's who, reference them before moving them\n",
    "slice30 = mp.getSlices().get(0) \n",
    "slice40 = mp.getSlices().get(1)\n",
    "slice50 = mp.getSlices().get(2)"
   ]
  },
  {
   "cell_type": "code",
   "execution_count": null,
   "id": "02735444",
   "metadata": {},
   "outputs": [],
   "source": [
    "mp.moveSlice(slice50,9.5)\n",
    "mp.moveSlice(slice40,8.2)\n",
    "mp.moveSlice(slice30,7.5)"
   ]
  },
  {
   "cell_type": "code",
   "execution_count": null,
   "id": "fead0beb",
   "metadata": {},
   "outputs": [],
   "source": [
    "# Simple actions are accessible through mp.whatever, but most actions are executed on selected slices\n",
    "# Almost all actions are executed asynchronously\n",
    "\n",
    "# For a registration : let's select all slices\n",
    "mp.selectSlice(mp.getSlices()) # select all"
   ]
  },
  {
   "cell_type": "code",
   "execution_count": null,
   "id": "a37a454f",
   "metadata": {},
   "outputs": [],
   "source": [
    "# Let's run an affine registration on the green slice channel and on the reference atlas channel\n",
    "# elastix needs to be setup, see https://biop.github.io/ijp-imagetoatlas/installation.html\n",
    "RegistrationElastixAffineCommand = jimport('ch.epfl.biop.atlas.aligner.command.RegistrationElastixAffineCommand')\n",
    "\n",
    "ij.command().run(RegistrationElastixAffineCommand, True,\n",
    "                 \"mp\", mp,\\\n",
    "                 \"pixel_size_micrometer\", 40,\\\n",
    "                 \"show_imageplus_registration_result\", False,\\\n",
    "                 \"background_offset_value_moving\",0,\\\n",
    "                 \"atlas_image_channel\",0,\\\n",
    "                 \"slice_image_channel\",1) # second channel, 0-based"
   ]
  },
  {
   "cell_type": "code",
   "execution_count": null,
   "id": "89311547",
   "metadata": {},
   "outputs": [],
   "source": [
    "# Let's try spline\n",
    "RegistrationElastixSplineCommand = jimport('ch.epfl.biop.atlas.aligner.command.RegistrationElastixSplineCommand')\n",
    "\n",
    "ij.command().run(RegistrationElastixSplineCommand, True,\n",
    "                 \"mp\", mp,\\\n",
    "                 \"nb_control_points_x\", 12,\\\n",
    "                 \"pixel_size_micrometer\", 20,\\\n",
    "                 \"show_imageplus_registration_result\", False,\\\n",
    "                 \"background_offset_value_moving\",0,\\\n",
    "                 \"atlas_image_channel\",0,\\\n",
    "                 \"slice_image_channel\",1) # second channel, 0-based"
   ]
  },
  {
   "cell_type": "code",
   "execution_count": null,
   "id": "bdd894b3",
   "metadata": {},
   "outputs": [],
   "source": [
    "# Let's wait for all registration to finish\n",
    "mp.waitForTasks()"
   ]
  },
  {
   "cell_type": "code",
   "execution_count": null,
   "id": "93687822",
   "metadata": {},
   "outputs": [],
   "source": [
    "# Get transformation\n",
    "transformslice30 = slice30.getSlicePixToCCFRealTransform()\n",
    "\n",
    "DoubleArray = JArray(JDouble)\n",
    "\n",
    "coordInImage = DoubleArray(3)\n",
    "coordInCCF = DoubleArray(3)\n",
    "\n",
    "coordInImage[0] = 5000 # X (pixel)\n",
    "coordInImage[1] = 5000 # Y\n",
    "coordInImage[2] = 0 # Z\n",
    "\n",
    "transformslice30.inverse().apply(coordInImage,coordInCCF)\n",
    "\n",
    "print('CCF coord (mm):'+str(coordInCCF))\n"
   ]
  },
  {
   "cell_type": "code",
   "execution_count": null,
   "id": "b9f26097",
   "metadata": {},
   "outputs": [],
   "source": []
  }
 ],
 "metadata": {
  "kernelspec": {
   "display_name": "Python 3 (ipykernel)",
   "language": "python",
   "name": "python3"
  },
  "language_info": {
   "codemirror_mode": {
    "name": "ipython",
    "version": 3
   },
   "file_extension": ".py",
   "mimetype": "text/x-python",
   "name": "python",
   "nbconvert_exporter": "python",
   "pygments_lexer": "ipython3",
   "version": "3.7.12"
  }
 },
 "nbformat": 4,
 "nbformat_minor": 5
}
