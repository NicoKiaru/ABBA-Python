{
 "cells": [
  {
   "cell_type": "markdown",
   "id": "007bdd6f",
   "metadata": {},
   "source": [
    "# [Aligning Big Brains and Atlases](https://biop.github.io/ijp-imagetoatlas/) in Python\n",
    "\n",
    "This series of notebook demoes the use of ABBA with python.\n",
    "\n",
    "If you have executed the previous notebook, you can re-open the saved state file.\n",
    "\n",
    "ABBA is not headless in this notebook, you can see use the GUI to act on the registration.\n"
   ]
  },
  {
   "cell_type": "code",
   "execution_count": null,
   "id": "5c4e9d2f",
   "metadata": {},
   "outputs": [],
   "source": [
    "# core dependencies\n",
    "import os\n",
    "import time\n",
    "from pathlib import Path\n",
    "\n",
    "\n",
    "from bg_atlasapi import show_atlases\n",
    "from bg_atlasapi import utils\n",
    "\n",
    "from abba import Abba"
   ]
  },
  {
   "cell_type": "markdown",
   "id": "54979364",
   "metadata": {},
   "source": [
    "## 1. ABBA initialization"
   ]
  },
  {
   "cell_type": "code",
   "execution_count": null,
   "id": "98c03c88",
   "metadata": {
    "scrolled": true
   },
   "outputs": [],
   "source": [
    "# -- NOT HEADLESS\n",
    "abba = Abba('Adult Mouse Brain - Allen Brain Atlas V3') # You may have to click a window!\n",
    "abba.show_bdv_ui()  # creates and show a bdv view"
   ]
  },
  {
   "cell_type": "markdown",
   "id": "358e4e2c",
   "metadata": {},
   "source": [
    "## 2. Open state file"
   ]
  },
  {
   "cell_type": "code",
   "execution_count": null,
   "id": "5c444a91",
   "metadata": {},
   "outputs": [],
   "source": [
    "save_dir = os.path.join(os.getcwd(), 'temp', 'notebook0', 'state')\n",
    "\n",
    "abba.state_load(save_dir+\"/state.json\") # full absolute path needed"
   ]
  },
  {
   "cell_type": "code",
   "execution_count": null,
   "id": "da60dcac",
   "metadata": {},
   "outputs": [],
   "source": [
    "# ALL COMMANDS ARE PERFORMED ON SELECTED SLICES!!\n",
    "abba.select_all_slices()\n",
    "\n",
    "# change display settings : channel index, min, max\n",
    "abba.change_display_settings(0, 0, 500)\n",
    "abba.change_display_settings(1, 0, 1200)"
   ]
  }
 ],
 "metadata": {
  "kernelspec": {
   "display_name": "Python 3 (ipykernel)",
   "language": "python",
   "name": "python3"
  },
  "language_info": {
   "codemirror_mode": {
    "name": "ipython",
    "version": 3
   },
   "file_extension": ".py",
   "mimetype": "text/x-python",
   "name": "python",
   "nbconvert_exporter": "python",
   "pygments_lexer": "ipython3",
   "version": "3.7.12"
  }
 },
 "nbformat": 4,
 "nbformat_minor": 5
}
