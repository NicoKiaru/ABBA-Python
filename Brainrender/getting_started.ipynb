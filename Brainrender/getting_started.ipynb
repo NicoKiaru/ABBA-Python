{
 "cells": [
  {
   "cell_type": "markdown",
   "metadata": {},
   "source": [
    "## Getting started with brainrender\n",
    "This notebooks shows how to get started using brainrender.\n",
    "It assumes that you have already installed, if not please install it now:\n",
    "```\n",
    "pip inst brainrneder\n",
    "```\n",
    "\n",
    "For more details about how to install brainrender, [please check the docs](https://docs.brainrender.info/installation/installation)\n",
    "\n",
    "### Content of this example\n",
    "This notebook shows how to:\n",
    "* Create a `Scene` in brainrender\n",
    "* add `brain regions` to your scene\n",
    "* add a `neuronal morphology` to your scene\n",
    "\n",
    "You can check the [examples](https://github.com/brainglobe/brainrender/tree/master/examples) and the [documentation](https://docs.brainrender.info/) to learn more about how to use brainrender.\n",
    "\n",
    "In particular, if you are planning to use brainrender in a Jupyter Notebook, please read the [docs](https://docs.brainrender.info/usage/using-notebooks) about using brainrender in a notebook, and have a look at the [notebooks workflow example](https://github.com/brainglobe/brainrender/blob/master/examples/notebook_workflow.ipynb)"
   ]
  },
  {
   "cell_type": "code",
   "execution_count": 1,
   "metadata": {},
   "outputs": [
    {
     "name": "stdout",
     "output_type": "stream",
     "text": [
      "embedWindow(verbose=True): could not load ipyvtklink try:\n",
      "> pip install ipyvtklink\n"
     ]
    }
   ],
   "source": [
    "from vedo import embedWindow"
   ]
  },
  {
   "cell_type": "code",
   "execution_count": 2,
   "metadata": {},
   "outputs": [],
   "source": [
    "embedWindow(None)  # <- this will make your scene popup\n",
    "\n",
    "from brainrender import Scene\n",
    "\n",
    "popup_scene = Scene(title='popup')\n",
    "\n",
    "popup_scene.add_brain_region('MOs')\n",
    "\n",
    "popup_scene.render()  # press 'Esc' to close!!"
   ]
  },
  {
   "cell_type": "markdown",
   "metadata": {},
   "source": [
    "### Creating a scene and adding brain regions"
   ]
  },
  {
   "cell_type": "code",
   "execution_count": 3,
   "metadata": {},
   "outputs": [
    {
     "data": {
      "text/html": [
       "<div>\n",
       "<style scoped>\n",
       "    .dataframe tbody tr th:only-of-type {\n",
       "        vertical-align: middle;\n",
       "    }\n",
       "\n",
       "    .dataframe tbody tr th {\n",
       "        vertical-align: top;\n",
       "    }\n",
       "\n",
       "    .dataframe thead th {\n",
       "        text-align: right;\n",
       "    }\n",
       "</style>\n",
       "<table border=\"1\" class=\"dataframe\">\n",
       "  <thead>\n",
       "    <tr style=\"text-align: right;\">\n",
       "      <th></th>\n",
       "      <th>acronym</th>\n",
       "      <th>id</th>\n",
       "      <th>name</th>\n",
       "    </tr>\n",
       "  </thead>\n",
       "  <tbody>\n",
       "    <tr>\n",
       "      <th>0</th>\n",
       "      <td>root</td>\n",
       "      <td>997</td>\n",
       "      <td>root</td>\n",
       "    </tr>\n",
       "    <tr>\n",
       "      <th>1</th>\n",
       "      <td>grey</td>\n",
       "      <td>8</td>\n",
       "      <td>Basic cell groups and regions</td>\n",
       "    </tr>\n",
       "    <tr>\n",
       "      <th>2</th>\n",
       "      <td>CH</td>\n",
       "      <td>567</td>\n",
       "      <td>Cerebrum</td>\n",
       "    </tr>\n",
       "    <tr>\n",
       "      <th>3</th>\n",
       "      <td>CTX</td>\n",
       "      <td>688</td>\n",
       "      <td>Cerebral cortex</td>\n",
       "    </tr>\n",
       "    <tr>\n",
       "      <th>4</th>\n",
       "      <td>CTXpl</td>\n",
       "      <td>695</td>\n",
       "      <td>Cortical plate</td>\n",
       "    </tr>\n",
       "  </tbody>\n",
       "</table>\n",
       "</div>"
      ]
     },
     "execution_count": 3,
     "metadata": {},
     "output_type": "execute_result"
    }
   ],
   "source": [
    "# Import Scene\n",
    "from brainrender import Scene  # Scene handles the creation of your rendering!\n",
    "\n",
    "scene = Scene(title='My first rendering')  # create an instance of scene\n",
    "'''\n",
    "If you want to use any of the atlases supported by BrainGlobe's AtlasAPI,\n",
    "specify the atlas name when creating an instance of `Scene`!\n",
    "'''\n",
    "\n",
    "# Adding brain regions\n",
    "scene.add_brain_region('MOs', 'TH', alpha=.5)\n",
    "\n",
    "'''\n",
    "You can add any number of brain regions at once, just specify the regions' acronym or ID numbers.\n",
    "If you are not sure what the acronym/ID is for your region, have a look try:\n",
    "\n",
    "`scene.atlas.lookup_df`\n",
    "\n",
    "or:\n",
    "`print(scene.atlas.hierarchy)`\n",
    "\n",
    "which whill show the hieararchical organization of the atlas' regions:\n",
    "\n",
    "root (997)\n",
    "├── VS (73)\n",
    "│   ├── AQ (140)\n",
    "│   ├── V3 (129)\n",
    "│   ├── V4 (145)\n",
    "│   │   └── V4r (153)\n",
    "│   ├── VL (81)\n",
    "│   │   ├── SEZ (98)\n",
    "│   │   └── chpl (108)\n",
    "│   └── c (164)\n",
    "├── fiber tracts (1009)\n",
    "│   ├── cbf (960)\n",
    "│   │   ├── arb (728)\n",
    "...\n",
    "\n",
    "'''\n",
    "\n",
    "scene.atlas.lookup_df.head()"
   ]
  },
  {
   "cell_type": "markdown",
   "metadata": {},
   "source": [
    "### Adding a neuronal morphology\n",
    "Brainrender can load neuronal morphologies from .swc files"
   ]
  },
  {
   "cell_type": "code",
   "execution_count": null,
   "metadata": {
    "scrolled": true
   },
   "outputs": [],
   "source": [
    "from brainrender.actors import Neuron  # import the Neuron actor class\n",
    "\n",
    "scene.add(Neuron(\"examples/data/neuron1.swc\"))\n",
    "\n",
    "'''\n",
    "Scene.add can be used to add actors to your scene. \n",
    "It accepts instances of the classes defined in brainrender.actors, \n",
    "mesh objects (e.g. loaded with vedo) or path to 3D objects file (e.g. .obj files)\n",
    "\n",
    "To see what actors are in a scene, use scene.content\n",
    "'''\n",
    "scene.content"
   ]
  },
  {
   "cell_type": "markdown",
   "metadata": {},
   "source": [
    "### Rendering\n",
    "Rendering is as simple as `scene.render()`.\n",
    "This will create a pop-up window with the interactive 3D rendering of your scene. \n",
    "When you're done with it, press \"Esc\" to close the window!"
   ]
  },
  {
   "cell_type": "code",
   "execution_count": null,
   "metadata": {},
   "outputs": [],
   "source": [
    "scene.render()"
   ]
  },
  {
   "cell_type": "code",
   "execution_count": null,
   "metadata": {},
   "outputs": [],
   "source": []
  }
 ],
 "metadata": {
  "kernelspec": {
   "display_name": "Python 3 (ipykernel)",
   "language": "python",
   "name": "python3"
  },
  "language_info": {
   "codemirror_mode": {
    "name": "ipython",
    "version": 3
   },
   "file_extension": ".py",
   "mimetype": "text/x-python",
   "name": "python",
   "nbconvert_exporter": "python",
   "pygments_lexer": "ipython3",
   "version": "3.7.12"
  }
 },
 "nbformat": 4,
 "nbformat_minor": 2
}
