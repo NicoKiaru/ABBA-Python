{
 "cells": [
  {
   "cell_type": "markdown",
   "id": "007bdd6f",
   "metadata": {},
   "source": [
    "# [Aligning Big Brains and Atlases](https://biop.github.io/ijp-imagetoatlas/) in Python\n",
    "\n",
    "This series of notebook demoes the use of ABBA with python.\n",
    "\n",
    "If you managed to create an environment with PyImageJ and DeepSlice, you will be able, by running this notebook, to perform a partially automated registration of demo mouse brain sections to the a BrainGLobe atlas.\n",
    "\n",
    "For this notebook to run, an atlas will need to be downloaded, as well as some sample dataset.\n",
    "\n",
    "The dataset is downloaded from https://zenodo.org/record/6592478\n",
    "\n",
    "\n",
    "**THIS DOES NOT 'REALLY' WORK, I DO NOT HAVE A DATASET TO TEST WITH ONE OF THE BRAINGLOBE ATLASES.**\n",
    "\n",
    "Please share if you have one or if you know a nicely available public one."
   ]
  },
  {
   "cell_type": "code",
   "execution_count": null,
   "id": "5c4e9d2f",
   "metadata": {},
   "outputs": [],
   "source": [
    "# core dependencies\n",
    "import os\n",
    "import time\n",
    "from pathlib import Path\n",
    "\n",
    "from bg_atlasapi import show_atlases\n",
    "from bg_atlasapi import utils\n",
    "\n",
    "from abba_python.Abba import Abba"
   ]
  },
  {
   "cell_type": "code",
   "execution_count": null,
   "id": "86a102df",
   "metadata": {},
   "outputs": [],
   "source": [
    "# Demo dataset for automated slices registration\n",
    "zenodo_demo_slices_url = 'https://zenodo.org/record/6592478/files/'\n",
    "\n",
    "\n",
    "# Only one section every five section is used for this demo\n",
    "demo_sections = [\n",
    "    'S00.tif',\n",
    "    'S05.tif',\n",
    "    'S10.tif',\n",
    "    'S15.tif',\n",
    "    'S20.tif',\n",
    "    'S25.tif',\n",
    "    'S30.tif',\n",
    "    'S35.tif',\n",
    "    'S40.tif',\n",
    "    'S45.tif',\n",
    "    'S50.tif',\n",
    "    'S55.tif',\n",
    "    'S60.tif',\n",
    "    'S65.tif',\n",
    "    'S70.tif',\n",
    "    'S75.tif',\n",
    "    'S80.tif']\n",
    "\n",
    "\n",
    "def download_if_necessary(base_path, section_name):\n",
    "    output_path = Path(base_path + section_name)\n",
    "    if not output_path.exists():\n",
    "        utils.check_internet_connection()\n",
    "        url = zenodo_demo_slices_url + section_name + '?download=1'\n",
    "        utils.retrieve_over_http(url, output_path)\n",
    "\n",
    "\n",
    "def download_test_images(base_path):\n",
    "    [download_if_necessary(base_path, section) for section in demo_sections]\n",
    "\n"
   ]
  },
  {
   "cell_type": "markdown",
   "id": "9dbd7118",
   "metadata": {},
   "source": [
    "## 1. Download test sections if necessary\n",
    "\n",
    "    "
   ]
  },
  {
   "cell_type": "code",
   "execution_count": null,
   "id": "f68706c1",
   "metadata": {},
   "outputs": [],
   "source": [
    "\n",
    "basePath = os.getcwd() + '/images/'\n",
    "download_test_images(basePath)\n"
   ]
  },
  {
   "cell_type": "markdown",
   "id": "fd26eb27",
   "metadata": {},
   "source": [
    "## 2. Choose a BrainGlobe Atlas"
   ]
  },
  {
   "cell_type": "code",
   "execution_count": null,
   "id": "6e64306b",
   "metadata": {},
   "outputs": [],
   "source": [
    "show_atlases()"
   ]
  },
  {
   "cell_type": "markdown",
   "id": "54979364",
   "metadata": {},
   "source": [
    "## 3. ABBA initialization"
   ]
  },
  {
   "cell_type": "code",
   "execution_count": null,
   "id": "98c03c88",
   "metadata": {
    "scrolled": true
   },
   "outputs": [],
   "source": [
    "\n",
    "# -- FOR DEBUGGING\n",
    "# import imagej.doctor\n",
    "# imagej.doctor.checkup()\n",
    "# imagej.doctor.debug_to_stderr()\n",
    "\n",
    "abba = Abba('azba_zfish_4um') # Simply put the name of the BrainGlobe atlas\n",
    "abba.show_bdv_ui()  # creates and show a bdv view\n",
    "    \n",
    "# !! Warning : it takes time... first : downloading the atlas if not present\n",
    "# it can take up to a minute..."
   ]
  },
  {
   "cell_type": "markdown",
   "id": "358e4e2c",
   "metadata": {},
   "source": [
    "## 4. Import sections into ABBA"
   ]
  },
  {
   "cell_type": "code",
   "execution_count": null,
   "id": "5c444a91",
   "metadata": {},
   "outputs": [],
   "source": [
    "# import sections into ABBA\n",
    "files = [basePath + section for section in demo_sections]\n",
    "abba.import_from_files(filepaths=files)\n",
    "\n",
    "# ALL REGISTRATIONS AND COMMANDS BELOW ARE PERFORMED ON THE SELECTED SLICES!!\n",
    "# since we want to register all of them, we select all of them\n",
    "abba.select_all_slices()"
   ]
  },
  {
   "cell_type": "code",
   "execution_count": null,
   "id": "66f97d0a",
   "metadata": {},
   "outputs": [],
   "source": [
    "# we want to avoid saturation in the display. This does not matter for\n",
    "# all registration methods EXCEPT for DeepSlice, which takes in rgb images\n",
    "abba.change_display_settings(0, 0, 500)\n",
    "abba.change_display_settings(1, 0, 1200)\n",
    "\n",
    "# programmatic way to show (or hide) sections and channels\n",
    "abba.get_bdv_view().setSelectedSlicesVisibility(True)\n",
    "abba.get_bdv_view().setSelectedSlicesVisibility(0, True)\n",
    "\n",
    "# This data does not make a lot of sense... mouse sections with fish..."
   ]
  },
  {
   "cell_type": "markdown",
   "id": "bb68f320",
   "metadata": {},
   "source": [
    "## 5. Position sections along the atlas axis"
   ]
  },
  {
   "cell_type": "code",
   "execution_count": null,
   "id": "23dd1376",
   "metadata": {},
   "outputs": [],
   "source": [
    "# Good luck with that, this can be done programmatically with a bit of pain now. \n",
    "# However in practice in absence of DeepSlice, you need to deal with that manually:\n",
    "# cf https://www.youtube.com/watch?v=sERGONVw4zE"
   ]
  },
  {
   "cell_type": "markdown",
   "id": "83b8f828",
   "metadata": {},
   "source": [
    "## 5. Elastix affine registration"
   ]
  },
  {
   "cell_type": "code",
   "execution_count": null,
   "id": "4d364363",
   "metadata": {},
   "outputs": [],
   "source": [
    "# a round of elastix registration, affine\n",
    "# the channel 0 of the dataset (DAPI) is registered with the Nissl Channel of the atlas (0)\n",
    "# and the channel 1 of the dataset (mainly autofluo) is registered with the autofluo channel of the atlas (1)\n",
    "# these two channels have equal weights in the registration process\n",
    "abba.register_slices_elastix_affine(channels_slice_csv='1',\n",
    "                                    channels_atlas_csv='0',\n",
    "                                    pixel_size_micrometer=40)"
   ]
  },
  {
   "cell_type": "markdown",
   "id": "ee4cb12b",
   "metadata": {},
   "source": [
    "## 6. Elastix spline registration"
   ]
  },
  {
   "cell_type": "code",
   "execution_count": null,
   "id": "f08093da",
   "metadata": {},
   "outputs": [],
   "source": [
    "# optional: a round of elastix registration, spline\n",
    "# same channels as in the affine registration\n",
    "# 5 control points along x = very coarse spline (and thus maybe unnecessary)\n",
    "# abba.register_elastix_spline(\n",
    "#    nb_control_points=5,\n",
    "#    atlas_image_channels=[0, 1],\n",
    "#    slice_image_channels=[0, 1],\n",
    "#    pixel_size_micrometer=40).get()\n",
    "\n",
    "# a round of elastix registration, affine\n",
    "# same channels as in the affine registration \n",
    "# 16 control points = reasonable spline, which allows for local corrections, without deforming two much the section\n",
    "abba.register_slices_elastix_spline(channels_slice_csv='1',\n",
    "                                    channels_atlas_csv='0',\n",
    "                                    nb_control_points_x=16,\n",
    "                                    pixel_size_micrometer=20)"
   ]
  },
  {
   "cell_type": "markdown",
   "id": "57c522c1",
   "metadata": {},
   "source": [
    "## 7. Wait for end of all registrations"
   ]
  },
  {
   "cell_type": "code",
   "execution_count": null,
   "id": "9d4a3a3c",
   "metadata": {},
   "outputs": [],
   "source": [
    "# all tasks/registrations are enqueued and executed asynchronously\n",
    "# if you need to wait before saving, then wait for all tasks to be finished:\n",
    "abba.wait_for_end_of_tasks()"
   ]
  },
  {
   "cell_type": "markdown",
   "id": "b7508c96",
   "metadata": {},
   "source": [
    "## 8. Saving the result"
   ]
  },
  {
   "cell_type": "code",
   "execution_count": null,
   "id": "27e6a478",
   "metadata": {},
   "outputs": [],
   "source": [
    "save_dir = os.path.join(os.getcwd(), 'temp', 'notebook1', 'state')\n",
    "\n",
    "if not os.path.exists(save_dir):\n",
    "    os.makedirs(save_dir)\n",
    "\n",
    "\n",
    "abba.state_save(save_dir+\"/state.json\") # full absolute path needed"
   ]
  },
  {
   "cell_type": "code",
   "execution_count": null,
   "id": "1391844f",
   "metadata": {},
   "outputs": [],
   "source": [
    "# EXTRA : manipulation of slices programmatically\n",
    "\n",
    "# slices selection and manipulation\n",
    "abba.mp.selectSlice(abba.mp.getSlices().get(2)) # select the last slice\n",
    "abba.mp.getReslicedAtlas().setRotateY(0.05) # Small correction in Y slicing of the atlas\n",
    "abba.mp.deselectSlice(abba.mp.getSlices()) # deselect all\n",
    "\n",
    "# The slices are always sorted from small z to high z. To keep track of who's who, reference them before moving them\n",
    "slice30 = abba.mp.getSlices().get(0) \n",
    "slice40 = abba.mp.getSlices().get(1)\n",
    "slice50 = abba.mp.getSlices().get(2)\n",
    "\n",
    "# move slices along the slicing axis\n",
    "abba.mp.moveSlice(slice50,9.5)\n",
    "abba.mp.moveSlice(slice40,8.2)\n",
    "abba.mp.moveSlice(slice30,7.5)\n",
    "\n",
    "# For a registration : let's select all slices\n",
    "abba.mp.selectSlice(abba.mp.getSlices()) # select all"
   ]
  }
 ],
 "metadata": {
  "kernelspec": {
   "display_name": "Python 3 (ipykernel)",
   "language": "python",
   "name": "python3"
  },
  "language_info": {
   "codemirror_mode": {
    "name": "ipython",
    "version": 3
   },
   "file_extension": ".py",
   "mimetype": "text/x-python",
   "name": "python",
   "nbconvert_exporter": "python",
   "pygments_lexer": "ipython3",
   "version": "3.7.12"
  }
 },
 "nbformat": 4,
 "nbformat_minor": 5
}
