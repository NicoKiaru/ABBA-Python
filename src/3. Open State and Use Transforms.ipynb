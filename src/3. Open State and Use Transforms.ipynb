{
 "cells": [
  {
   "cell_type": "markdown",
   "id": "6aaf973e",
   "metadata": {},
   "source": [
    "# [Aligning Big Brains and Atlases](https://biop.github.io/ijp-imagetoatlas/) in Python\n",
    "\n",
    "This series of notebook demoes the use of ABBA with python.\n",
    "\n",
    "If you have executed the previous notebook, you can re-open the saved state file.\n",
    "\n",
    "This notebook shows how to convert the pixel position of a slice to its coordinates in the atlas (forth and back).\n"
   ]
  },
  {
   "cell_type": "code",
   "execution_count": null,
   "id": "62435da7",
   "metadata": {},
   "outputs": [],
   "source": [
    "# core dependencies\n",
    "import os\n",
    "import time\n",
    "from pathlib import Path\n",
    "\n",
    "\n",
    "from bg_atlasapi import show_atlases\n",
    "from bg_atlasapi import utils\n",
    "\n",
    "from abba_python.Abba import Abba"
   ]
  },
  {
   "cell_type": "code",
   "execution_count": null,
   "id": "99674331",
   "metadata": {},
   "outputs": [],
   "source": [
    "# -- NOT HEADLESS\n",
    "abba = Abba('Adult Mouse Brain - Allen Brain Atlas V3p1') # You may have to click a window!\n",
    "abba.show_bdv_ui()  # creates and show a bdv view\n",
    "\n",
    "save_dir = os.path.join(os.getcwd(), 'temp', 'notebook0', 'state') # execute the first notebook to get this file!\n",
    "abba.state_load(save_dir+\"/state.abba\") # full absolute path needed\n",
    "\n",
    "# ALL COMMANDS ARE PERFORMED ON SELECTED SLICES!!\n",
    "# since we want to register all of them, we select all of them\n",
    "abba.select_all_slices()\n",
    "\n",
    "# change display settings : channel index, min, max\n",
    "abba.change_display_settings(0, 0, 500)\n",
    "abba.change_display_settings(1, 0, 1200)\n",
    "\n",
    "# YOU MAY NEED TO CLICK ON THE UI TO FINISH THE EXECUTION OF THIS CELL (angle change notification)"
   ]
  },
  {
   "cell_type": "code",
   "execution_count": null,
   "id": "0a056fa5",
   "metadata": {},
   "outputs": [],
   "source": [
    "# programmatic way to show (or hide) sections and channels\n",
    "abba.get_bdv_view().setSelectedSlicesVisibility(True)\n",
    "abba.get_bdv_view().setSelectedSlicesVisibility(0, True)"
   ]
  },
  {
   "cell_type": "code",
   "execution_count": null,
   "id": "4c913344",
   "metadata": {},
   "outputs": [],
   "source": [
    "mp = abba.mp\n",
    "mp.selectSlice(mp.getSlices()) # select all slices"
   ]
  },
  {
   "cell_type": "code",
   "execution_count": null,
   "id": "1d17f28e",
   "metadata": {},
   "outputs": [],
   "source": [
    "mp.deselectSlice(mp.getSlices()) # deselect all"
   ]
  },
  {
   "cell_type": "code",
   "execution_count": null,
   "id": "d0cb63e0",
   "metadata": {},
   "outputs": [],
   "source": [
    "mp.selectSlice(mp.getSlices().get(2)) # select the third slice"
   ]
  },
  {
   "cell_type": "code",
   "execution_count": null,
   "id": "e5b46eae",
   "metadata": {},
   "outputs": [],
   "source": [
    "# The slices are always sorted from small z to high z. To keep track of who's who, reference them before moving them\n",
    "slice_0 = mp.getSlices().get(0) \n",
    "slice_1 = mp.getSlices().get(1)\n",
    "slice_2 = mp.getSlices().get(2)"
   ]
  },
  {
   "cell_type": "code",
   "execution_count": null,
   "id": "93687822",
   "metadata": {},
   "outputs": [],
   "source": [
    "\n",
    "from jpype.types import JString, JArray, JDouble\n",
    "\n",
    "# Get transformation\n",
    "transform_pix_to_atlas = slice_0.getSlicePixToCCFRealTransform()\n",
    "\n",
    "DoubleArray = JArray(JDouble)\n",
    "\n",
    "coordInImage = DoubleArray(3)\n",
    "coordInCCF = DoubleArray(3)\n",
    "\n",
    "coordInImage[0] = 500 # X (pixel)\n",
    "coordInImage[1] = 500 # Y\n",
    "coordInImage[2] = 0 # Z\n",
    "\n",
    "transform_pix_to_atlas.inverse().apply(coordInImage,coordInCCF)\n",
    "\n",
    "print('CCF coord (mm):'+str(coordInCCF))\n"
   ]
  },
  {
   "cell_type": "code",
   "execution_count": null,
   "id": "b9f26097",
   "metadata": {},
   "outputs": [],
   "source": [
    "# We can also find the coordinates of the atlas into a slice\n",
    "# a coordinate in z far from 0, means that it's not in the slice, but far out\n",
    "# See https://forum.image.sc/t/coordinates-in-slice-to-atlas-using-abba-python/79513 \n",
    "\n",
    "coordInCCF = DoubleArray(3)\n",
    "coordInCCF[0] = 6.60 # X (pixel)\n",
    "coordInCCF[1] = 4.31 # Y\n",
    "coordInCCF[2] = 5.58 # Z\n",
    "\n",
    "coordInImage = DoubleArray(3)\n",
    "\n",
    "for idx in range(0,mp.getSlices().size()):\n",
    "    # Get transformation\n",
    "    transform_pix_to_atlas = mp.getSlices().get(idx).getSlicePixToCCFRealTransform()\n",
    "    transform_pix_to_atlas.apply(coordInCCF, coordInImage)\n",
    "    print('Slice['+str(idx)+'] coord (pixel):'+str(coordInImage))\n",
    "    \n"
   ]
  },
  {
   "cell_type": "code",
   "execution_count": null,
   "id": "4f1cb990",
   "metadata": {},
   "outputs": [],
   "source": [
    "# The slice indexed 6 should be the one which is the nearest to the atlas point.\n",
    "# Note that the values in Z are small because, in absence of 3D image, \n",
    "# each section is assumed to have a size of 1 mm"
   ]
  },
  {
   "cell_type": "code",
   "execution_count": null,
   "id": "9b416a85",
   "metadata": {},
   "outputs": [],
   "source": [
    "# You can normalize the slices sections by expanding them to cover the space between neighboring slices, no more, no less\n",
    "abba.select_all_slices()\n",
    "abba.set_slices_thickness_match_neighbors() # not critical, but for 3d reconstruction it will allow for each slice to occupy the place available between its neighbors\n",
    "# The coordinates will be different in Z\n",
    "coordInImage = DoubleArray(3)\n",
    "\n",
    "for idx in range(0,mp.getSlices().size()):\n",
    "    # Get transformation\n",
    "    transform_pix_to_atlas = mp.getSlices().get(idx).getSlicePixToCCFRealTransform()\n",
    "    transform_pix_to_atlas.apply(coordInCCF, coordInImage)\n",
    "    print('Slice['+str(idx)+'] coord (pixel):'+str(coordInImage))"
   ]
  },
  {
   "cell_type": "code",
   "execution_count": null,
   "id": "90bd8a3e",
   "metadata": {},
   "outputs": [],
   "source": []
  }
 ],
 "metadata": {
  "kernelspec": {
   "display_name": "Python 3 (ipykernel)",
   "language": "python",
   "name": "python3"
  },
  "language_info": {
   "codemirror_mode": {
    "name": "ipython",
    "version": 3
   },
   "file_extension": ".py",
   "mimetype": "text/x-python",
   "name": "python",
   "nbconvert_exporter": "python",
   "pygments_lexer": "ipython3",
   "version": "3.7.12"
  }
 },
 "nbformat": 4,
 "nbformat_minor": 5
}
