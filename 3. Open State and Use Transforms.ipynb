{
 "cells": [
  {
   "cell_type": "markdown",
   "id": "6aaf973e",
   "metadata": {},
   "source": [
    "# [Aligning Big Brains and Atlases](https://biop.github.io/ijp-imagetoatlas/) in Python\n",
    "\n",
    "This series of notebook demoes the use of ABBA with python.\n",
    "\n",
    "If you have executed the previous notebook, you can re-open the saved state file.\n",
    "\n",
    "This notebook shows how to convert the pixel position of a slice to its coordinates in the atlas (forth and back).\n"
   ]
  },
  {
   "cell_type": "code",
   "execution_count": 2,
   "id": "62435da7",
   "metadata": {},
   "outputs": [],
   "source": [
    "# core dependencies\n",
    "import os\n",
    "import time\n",
    "from pathlib import Path\n",
    "\n",
    "\n",
    "from bg_atlasapi import show_atlases\n",
    "from bg_atlasapi import utils\n",
    "\n",
    "from abba import Abba"
   ]
  },
  {
   "cell_type": "code",
   "execution_count": 3,
   "id": "99674331",
   "metadata": {},
   "outputs": [
    {
     "name": "stderr",
     "output_type": "stream",
     "text": [
      "[java.lang.Enum.toString] 23:30:32.474 [Timer-0] INFO sc.fiji.bdvpg.cache.BoundedLinkedHashMapGlobalCache - Cache size : 0 Mb (0 %)\n",
      "[java.lang.Enum.toString] 23:30:34.474 [Timer-0] INFO sc.fiji.bdvpg.cache.BoundedLinkedHashMapGlobalCache - Cache size : 0 Mb (0 %)\n",
      "[java.lang.Enum.toString] 23:30:36.474 [Timer-0] INFO sc.fiji.bdvpg.cache.BoundedLinkedHashMapGlobalCache - Cache size : 0 Mb (0 %)\n",
      "[java.lang.Enum.toString] 23:30:38.485 [Timer-0] INFO sc.fiji.bdvpg.cache.BoundedLinkedHashMapGlobalCache - Cache size : 0 Mb (0 %)\n",
      "[java.lang.Enum.toString] 23:30:40.494 [Timer-0] INFO sc.fiji.bdvpg.cache.BoundedLinkedHashMapGlobalCache - Cache size : 0 Mb (0 %)\n",
      "[java.lang.Enum.toString] 23:30:42.501 [Timer-0] INFO sc.fiji.bdvpg.cache.BoundedLinkedHashMapGlobalCache - Cache size : 0 Mb (0 %)\n",
      "[java.lang.Enum.toString] 23:30:44.514 [Timer-0] INFO sc.fiji.bdvpg.cache.BoundedLinkedHashMapGlobalCache - Cache size : 0 Mb (0 %)\n",
      "[java.lang.Enum.toString] 23:30:44.532 [SciJava-6e106680-Thread-1] DEBUG sc.fiji.bdvpg.scijava.services.SourceAndConverterService - Plugin found for entity class Displaysettings\n",
      "[java.lang.Enum.toString] 23:30:44.990 [SciJava-6e106680-Thread-1] INFO sc.fiji.bdvpg.scijava.services.SourceAndConverterService - Spimdata mpicbg.spim.data.SpimData@74a67911 is using the Bdv Playground global cache.\n",
      "[java.lang.Enum.toString] [WARNING] Ignoring unsupported output: ba [ch.epfl.biop.atlas.mouse.allen.ccfv3.command.AllenBrainAdultMouseAtlasCCF2017Command]\n",
      "[java.lang.Enum.toString] [WARNING] Ignoring unsupported output: mp [ch.epfl.biop.atlas.aligner.MultiSlicePositioner]\n"
     ]
    }
   ],
   "source": [
    "# -- NOT HEADLESS\n",
    "abba = Abba('Adult Mouse Brain - Allen Brain Atlas V3') # You may have to click a window!\n",
    "abba.show_bdv_ui()  # creates and show a bdv view\n",
    "\n",
    "save_dir = os.path.join(os.getcwd(), 'temp', 'notebook0', 'state') # execute the first notebook to get this file!\n",
    "abba.state_load(save_dir+\"/state.json\") # full absolute path needed\n",
    "\n",
    "# ALL COMMANDS ARE PERFORMED ON SELECTED SLICES!!\n",
    "# since we want to register all of them, we select all of them\n",
    "abba.select_all_slices()\n",
    "\n",
    "# change display settings : channel index, min, max\n",
    "abba.change_display_settings(0, 0, 500)\n",
    "abba.change_display_settings(1, 0, 1200)"
   ]
  },
  {
   "cell_type": "code",
   "execution_count": 5,
   "id": "4c913344",
   "metadata": {},
   "outputs": [],
   "source": [
    "mp = abba.mp\n",
    "mp.selectSlice(mp.getSlices()) # select all slices"
   ]
  },
  {
   "cell_type": "code",
   "execution_count": 6,
   "id": "1d17f28e",
   "metadata": {},
   "outputs": [],
   "source": [
    "mp.deselectSlice(mp.getSlices()) # deselect all"
   ]
  },
  {
   "cell_type": "code",
   "execution_count": 7,
   "id": "d0cb63e0",
   "metadata": {},
   "outputs": [],
   "source": [
    "mp.selectSlice(mp.getSlices().get(2)) # select the third slice"
   ]
  },
  {
   "cell_type": "code",
   "execution_count": 8,
   "id": "e5b46eae",
   "metadata": {},
   "outputs": [],
   "source": [
    "# The slices are always sorted from small z to high z. To keep track of who's who, reference them before moving them\n",
    "slice_0 = mp.getSlices().get(0) \n",
    "slice_1 = mp.getSlices().get(1)\n",
    "slice_2 = mp.getSlices().get(2)"
   ]
  },
  {
   "cell_type": "code",
   "execution_count": 11,
   "id": "93687822",
   "metadata": {},
   "outputs": [
    {
     "name": "stdout",
     "output_type": "stream",
     "text": [
      "CCF coord (mm):[3.393072983499839, 7.484356295411038, 4.395055512552738]\n"
     ]
    }
   ],
   "source": [
    "\n",
    "from jpype.types import JString, JArray, JDouble\n",
    "\n",
    "# Get transformation\n",
    "transform_pix_to_atlas = slice_0.getSlicePixToCCFRealTransform()\n",
    "\n",
    "DoubleArray = JArray(JDouble)\n",
    "\n",
    "coordInImage = DoubleArray(3)\n",
    "coordInCCF = DoubleArray(3)\n",
    "\n",
    "coordInImage[0] = 500 # X (pixel)\n",
    "coordInImage[1] = 500 # Y\n",
    "coordInImage[2] = 0 # Z\n",
    "\n",
    "transform_pix_to_atlas.inverse().apply(coordInImage,coordInCCF)\n",
    "\n",
    "print('CCF coord (mm):'+str(coordInCCF))\n"
   ]
  },
  {
   "cell_type": "code",
   "execution_count": 16,
   "id": "b9f26097",
   "metadata": {},
   "outputs": [
    {
     "name": "stdout",
     "output_type": "stream",
     "text": [
      "Slice[0] coord (pixel):[348.7057670533017, 235.38516607310274, 3.600667073218623]\n",
      "Slice[1] coord (pixel):[361.4304422128157, 287.7613316347729, 2.810165804469322]\n",
      "Slice[2] coord (pixel):[409.39554996310176, 323.2207341866975, 2.5744416742725766]\n",
      "Slice[3] coord (pixel):[431.2801818083278, 299.31599447740894, 1.9917078432305715]\n",
      "Slice[4] coord (pixel):[444.95026340166635, 308.7895266244058, 1.0066276332493835]\n",
      "Slice[5] coord (pixel):[463.49185843127947, 326.06249706598555, 0.584678610215497]\n",
      "Slice[6] coord (pixel):[483.6025521582269, 345.0469921238429, -0.001998801744556466]\n",
      "Slice[7] coord (pixel):[467.01072091338955, 312.29720641340094, -0.4635978193053356]\n",
      "Slice[8] coord (pixel):[497.6989764955915, 354.1903325877275, -1.0038519145691438]\n",
      "Slice[9] coord (pixel):[478.26404024679647, 351.95157496712204, -1.5801448152571362]\n",
      "Slice[10] coord (pixel):[498.40981900528476, 357.47374136535586, -2.2822753245082295]\n",
      "Slice[11] coord (pixel):[481.02416072771405, 355.5409989716218, -2.878250345823043]\n",
      "Slice[12] coord (pixel):[492.86312550699967, 307.6262080884072, -3.738932761587596]\n",
      "Slice[13] coord (pixel):[460.913216643823, 321.50374357983094, -3.809970265880705]\n",
      "Slice[14] coord (pixel):[425.47820622244825, 279.2055414242761, -4.380032191899599]\n",
      "Slice[15] coord (pixel):[403.51259604814106, 299.73606061312825, -4.939178449119574]\n",
      "Slice[16] coord (pixel):[379.96210863309045, 301.8572950050347, -5.531992663182291]\n"
     ]
    }
   ],
   "source": [
    "# We can also find the coordinates of the atlas into a slice\n",
    "# a coordinate in z far from 0, means that it's not in the slice, but far out\n",
    "\n",
    "coordInCCF = DoubleArray(3)\n",
    "coordInCCF[0] = 6.60 # X (pixel)\n",
    "coordInCCF[1] = 4.31 # Y\n",
    "coordInCCF[2] = 5.58 # Z\n",
    "\n",
    "coordInImage = DoubleArray(3)\n",
    "\n",
    "for idx in range(0,mp.getSlices().size()):\n",
    "    # Get transformation\n",
    "    transform_pix_to_atlas = mp.getSlices().get(idx).getSlicePixToCCFRealTransform()\n",
    "    transform_pix_to_atlas.apply(coordInCCF, coordInImage)\n",
    "    print('Slice['+str(idx)+'] coord (pixel):'+str(coordInImage))\n",
    "    \n"
   ]
  },
  {
   "cell_type": "code",
   "execution_count": null,
   "id": "4f1cb990",
   "metadata": {},
   "outputs": [],
   "source": [
    "# The slice indexed 6 should be the one which is the nearest to the atlas point.\n",
    "# Note that the values in Z are small because, in absence of 3D image, \n",
    "# each section is assumed to have a size of 1 mm"
   ]
  }
 ],
 "metadata": {
  "kernelspec": {
   "display_name": "Python 3 (ipykernel)",
   "language": "python",
   "name": "python3"
  },
  "language_info": {
   "codemirror_mode": {
    "name": "ipython",
    "version": 3
   },
   "file_extension": ".py",
   "mimetype": "text/x-python",
   "name": "python",
   "nbconvert_exporter": "python",
   "pygments_lexer": "ipython3",
   "version": "3.7.12"
  }
 },
 "nbformat": 4,
 "nbformat_minor": 5
}
